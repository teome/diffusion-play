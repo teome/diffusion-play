{
  "cells": [
    {
      "cell_type": "code",
      "execution_count": null,
      "metadata": {
        "id": "u76_4EgYjDjZ"
      },
      "outputs": [],
      "source": [
        "# uncomment if running in colab\n",
        "# # !pwd\n",
        "!git clone https://github.com/fastai/course22p2\n",
        "!cd course22p2 && pip install -e ."
      ]
    },
    {
      "cell_type": "markdown",
      "metadata": {
        "id": "TA5AbeY0jDjb"
      },
      "source": [
        "# Augmentation"
      ]
    },
    {
      "cell_type": "code",
      "execution_count": 1,
      "metadata": {
        "id": "JOj5yg8ojDjd"
      },
      "outputs": [],
      "source": [
        "#|export\n",
        "import torch,random\n",
        "import fastcore.all as fc\n",
        "\n",
        "from torch import nn\n",
        "from torch.nn import init\n",
        "\n",
        "from miniai.datasets import *\n",
        "from miniai.conv import *\n",
        "from miniai.learner import *\n",
        "from miniai.activations import *\n",
        "from miniai.init import *\n",
        "from miniai.sgd import *\n",
        "from miniai.resnet import *"
      ]
    },
    {
      "cell_type": "code",
      "execution_count": 2,
      "metadata": {
        "id": "ZqBbspPejDjd"
      },
      "outputs": [],
      "source": [
        "import pickle,gzip,math,os,time,shutil\n",
        "import matplotlib as mpl,numpy as np,matplotlib.pyplot as plt\n",
        "from collections.abc import Mapping\n",
        "from pathlib import Path\n",
        "from operator import attrgetter,itemgetter\n",
        "from functools import partial\n",
        "from copy import copy\n",
        "from contextlib import contextmanager\n",
        "\n",
        "import torchvision.transforms.functional as TF,torch.nn.functional as F\n",
        "from torch import tensor,optim\n",
        "from torch.utils.data import DataLoader,default_collate\n",
        "from torch.optim import lr_scheduler\n",
        "from torcheval.metrics import MulticlassAccuracy\n",
        "from datasets import load_dataset,load_dataset_builder\n",
        "\n",
        "from fastcore.test import test_close\n",
        "from torch import distributions\n",
        "\n",
        "torch.set_printoptions(precision=2, linewidth=140, sci_mode=False)\n",
        "torch.manual_seed(1)\n",
        "mpl.rcParams['image.cmap'] = 'gray_r'\n",
        "\n",
        "import logging\n",
        "logging.disable(logging.WARNING)\n",
        "\n",
        "set_seed(42)\n",
        "\n",
        "if fc.defaults.cpus>8: fc.defaults.cpus=8"
      ]
    },
    {
      "cell_type": "code",
      "execution_count": null,
      "metadata": {
        "id": "v24oOKBRjDje"
      },
      "outputs": [],
      "source": [
        "xl,yl = 'image','label'\n",
        "name = \"fashion_mnist\"\n",
        "bs = 1024\n",
        "xmean,xstd = 0.28, 0.35\n",
        "\n",
        "@inplace\n",
        "def transformi(b): b[xl] = [(TF.to_tensor(o)-xmean)/xstd for o in b[xl]]\n",
        "\n",
        "dsd = load_dataset(name)\n",
        "tds = dsd.with_transform(transformi)\n",
        "dls = DataLoaders.from_dd(tds, bs, num_workers=fc.defaults.cpus)"
      ]
    },
    {
      "cell_type": "code",
      "execution_count": 4,
      "metadata": {
        "id": "PxBYTwLejDje"
      },
      "outputs": [],
      "source": [
        "metrics = MetricsCB(accuracy=MulticlassAccuracy())\n",
        "astats = ActivationStats(fc.risinstance(GeneralRelu))\n",
        "# cbs = [DeviceCB(), metrics, ProgressCB(plot=True), astats]\n",
        "cbs = [DeviceCB(), metrics, ProgressCB(plot=True)]\n",
        "act_gr = partial(GeneralRelu, leak=0.1, sub=0.4)\n",
        "iw = partial(init_weights, leaky=0.1)"
      ]
    },
    {
      "cell_type": "code",
      "execution_count": 5,
      "metadata": {
        "id": "uuHmAilQjDje"
      },
      "outputs": [],
      "source": [
        "set_seed(42)\n",
        "lr, epochs = 6e-2, 5"
      ]
    },
    {
      "cell_type": "markdown",
      "metadata": {
        "id": "s-ua6_85jDjf"
      },
      "source": [
        "## Going wider"
      ]
    },
    {
      "cell_type": "code",
      "execution_count": 6,
      "metadata": {
        "id": "UsVo_E2mjDjf"
      },
      "outputs": [],
      "source": [
        "def get_model(act=nn.ReLU, nfs=(16,32,64,128,256,512), norm=nn.BatchNorm2d):\n",
        "    layers = [ResBlock(1, 16, ks=5, stride=1, act=act, norm=norm)]\n",
        "    layers += [ResBlock(nfs[i], nfs[i+1], act=act, norm=norm, stride=2) for i in range(len(nfs)-1)]\n",
        "    layers += [nn.Flatten(), nn.Linear(nfs[-1], 10, bias=False), nn.BatchNorm1d(10)]\n",
        "    return nn.Sequential(*layers)"
      ]
    },
    {
      "cell_type": "code",
      "execution_count": 7,
      "metadata": {
        "id": "FsAp7LkNjDjf"
      },
      "outputs": [],
      "source": [
        "lr = 1e-2\n",
        "tmax = epochs * len(dls.train)\n",
        "sched = partial(lr_scheduler.OneCycleLR, max_lr=lr, total_steps=tmax)\n",
        "xtra = [BatchSchedCB(sched)]\n",
        "model = get_model(act_gr, norm=nn.BatchNorm2d).apply(iw)\n",
        "learn = TrainLearner(model, dls, F.cross_entropy, lr=lr, cbs=cbs+xtra, opt_func=optim.AdamW)"
      ]
    },
    {
      "cell_type": "code",
      "execution_count": 9,
      "metadata": {
        "id": "G3k_fCIBjDjf",
        "outputId": "b2d06a42-ca27-4093-cff9-12079f5f7568",
        "colab": {
          "base_uri": "https://localhost:8080/",
          "height": 714
        }
      },
      "outputs": [
        {
          "output_type": "display_data",
          "data": {
            "text/plain": [
              "<IPython.core.display.HTML object>"
            ],
            "text/html": [
              "\n",
              "<style>\n",
              "    /* Turns off some styling */\n",
              "    progress {\n",
              "        /* gets rid of default border in Firefox and Opera. */\n",
              "        border: none;\n",
              "        /* Needs to be in here for Safari polyfill so background images work as expected. */\n",
              "        background-size: auto;\n",
              "    }\n",
              "    progress:not([value]), progress:not([value])::-webkit-progress-bar {\n",
              "        background: repeating-linear-gradient(45deg, #7e7e7e, #7e7e7e 10px, #5c5c5c 10px, #5c5c5c 20px);\n",
              "    }\n",
              "    .progress-bar-interrupted, .progress-bar-interrupted::-webkit-progress-bar {\n",
              "        background: #F44336;\n",
              "    }\n",
              "</style>\n"
            ]
          },
          "metadata": {}
        },
        {
          "output_type": "display_data",
          "data": {
            "text/plain": [
              "<IPython.core.display.HTML object>"
            ],
            "text/html": [
              "<table border=\"1\" class=\"dataframe\">\n",
              "  <thead>\n",
              "    <tr style=\"text-align: left;\">\n",
              "      <th>accuracy</th>\n",
              "      <th>loss</th>\n",
              "      <th>epoch</th>\n",
              "      <th>train</th>\n",
              "    </tr>\n",
              "  </thead>\n",
              "  <tbody>\n",
              "    <tr>\n",
              "      <td>0.824</td>\n",
              "      <td>0.704</td>\n",
              "      <td>0</td>\n",
              "      <td>train</td>\n",
              "    </tr>\n",
              "    <tr>\n",
              "      <td>0.853</td>\n",
              "      <td>0.572</td>\n",
              "      <td>0</td>\n",
              "      <td>eval</td>\n",
              "    </tr>\n",
              "    <tr>\n",
              "      <td>0.898</td>\n",
              "      <td>0.381</td>\n",
              "      <td>1</td>\n",
              "      <td>train</td>\n",
              "    </tr>\n",
              "    <tr>\n",
              "      <td>0.882</td>\n",
              "      <td>0.388</td>\n",
              "      <td>1</td>\n",
              "      <td>eval</td>\n",
              "    </tr>\n",
              "    <tr>\n",
              "      <td>0.920</td>\n",
              "      <td>0.266</td>\n",
              "      <td>2</td>\n",
              "      <td>train</td>\n",
              "    </tr>\n",
              "    <tr>\n",
              "      <td>0.912</td>\n",
              "      <td>0.284</td>\n",
              "      <td>2</td>\n",
              "      <td>eval</td>\n",
              "    </tr>\n",
              "    <tr>\n",
              "      <td>0.942</td>\n",
              "      <td>0.194</td>\n",
              "      <td>3</td>\n",
              "      <td>train</td>\n",
              "    </tr>\n",
              "    <tr>\n",
              "      <td>0.929</td>\n",
              "      <td>0.233</td>\n",
              "      <td>3</td>\n",
              "      <td>eval</td>\n",
              "    </tr>\n",
              "    <tr>\n",
              "      <td>0.963</td>\n",
              "      <td>0.138</td>\n",
              "      <td>4</td>\n",
              "      <td>train</td>\n",
              "    </tr>\n",
              "    <tr>\n",
              "      <td>0.933</td>\n",
              "      <td>0.222</td>\n",
              "      <td>4</td>\n",
              "      <td>eval</td>\n",
              "    </tr>\n",
              "  </tbody>\n",
              "</table>"
            ]
          },
          "metadata": {}
        },
        {
          "output_type": "display_data",
          "data": {
            "text/plain": [
              "<Figure size 600x400 with 1 Axes>"
            ],
            "image/png": "[encoded data removed]"
          },
          "metadata": {}
        }
      ],
      "source": [
        "learn.fit(epochs)"
      ]
    },
    {
      "cell_type": "markdown",
      "source": [
        "## Pooling"
      ],
      "metadata": {
        "id": "Wx6_9yMhkiGE"
      }
    },
    {
      "cell_type": "code",
      "source": [
        "class GlobalAvgPool(nn.Module):\n",
        "    def forward(self, x): return x.mean((-2, -1))"
      ],
      "metadata": {
        "id": "U4qUgY_UkFaO"
      },
      "execution_count": null,
      "outputs": []
    },
    {
      "cell_type": "code",
      "source": [
        "def get_model2(act=nn.ReLU, nfs=(16,32,64,128,256), norm=nn.BatchNorm2d):\n",
        "    layers = [ResBlock(1, 16, ks=5, stride=1, act=act, norm=norm)]\n",
        "    layers += [ResBlock(nfs[i], nfs[i+1], act=act, norm=norm, stride=2) for i in range(len(nfs)-1)]\n",
        "    layers += [ResBlock(256, 512, act=act, norm=norm), GlobalAvgPool()]\n",
        "    layers += [nn.Linear(512, 10, bias=False), nn.BatchNorm1d(10)]\n",
        "    return nn.Sequential(*layers)\n"
      ],
      "metadata": {
        "id": "Eqiu2XpOksP0"
      },
      "execution_count": null,
      "outputs": []
    },
    {
      "cell_type": "code",
      "source": [
        "#|export\n",
        "def _flops(x, h, w):\n",
        "    if x.dim()<3: return x.numel()\n",
        "    if x.dim()==4: return x.numel()*h*w\n",
        "\n",
        "@fc.patch\n",
        "def summary(self:Learner):\n",
        "    res = '|Module|Input|Output|Num params|MFLOPS|\\n|--|--|--|--|--|\\n'\n",
        "    totp,totf = 0,0\n",
        "    def _f(hook, mod, inp, outp):\n",
        "        nonlocal res,totp,totf\n",
        "        nparms = sum(o.numel() for o in mod.parameters())\n",
        "        totp += nparms\n",
        "        *_,h,w = outp.shape\n",
        "        flops = sum(_flops(o, h, w) for o in mod.parameters())/1e6\n",
        "        totf += flops\n",
        "        res += f'|{type(mod).__name__}|{tuple(inp[0].shape)}|{tuple(outp.shape)}|{nparms}|{flops:.1f}|\\n'\n",
        "    with Hooks(self.model, _f) as hooks: self.fit(1, lr=1, cbs=SingleBatchCB())\n",
        "    print(f\"Tot params: {totp}; MFLOPS: {totf:.1f}\")\n",
        "    if fc.IN_NOTEBOOK:\n",
        "        from IPython.display import Markdown\n",
        "        return Markdown(res)\n",
        "    else: print(res)"
      ],
      "metadata": {
        "id": "QKa_kfCrlZjH"
      },
      "execution_count": null,
      "outputs": []
    },
    {
      "cell_type": "code",
      "source": [
        "TrainLearner(get_model2(), dls, F.cross_entropy, lr=lr, cbs=[DeviceCB()]).summary()"
      ],
      "metadata": {
        "id": "Ho1AI5qTlj6b",
        "outputId": "bc7ab09f-1a9a-44a0-bb95-5f2702709d6b",
        "colab": {
          "base_uri": "https://localhost:8080/",
          "height": 350
        }
      },
      "execution_count": null,
      "outputs": [
        {
          "output_type": "stream",
          "name": "stdout",
          "text": [
            "Tot params: 4907588; MFLOPS: 33.0\n"
          ]
        },
        {
          "output_type": "execute_result",
          "data": {
            "text/plain": [
              "<IPython.core.display.Markdown object>"
            ],
            "text/markdown": "|Module|Input|Output|Num params|MFLOPS|\n|--|--|--|--|--|\n|ResBlock|(1024, 1, 28, 28)|(1024, 16, 28, 28)|6928|5.3|\n|ResBlock|(1024, 16, 28, 28)|(1024, 32, 14, 14)|14560|2.8|\n|ResBlock|(1024, 32, 14, 14)|(1024, 64, 7, 7)|57792|2.8|\n|ResBlock|(1024, 64, 7, 7)|(1024, 128, 4, 4)|230272|3.7|\n|ResBlock|(1024, 128, 4, 4)|(1024, 256, 2, 2)|919296|3.7|\n|ResBlock|(1024, 256, 2, 2)|(1024, 512, 2, 2)|3673600|14.7|\n|GlobalAvgPool|(1024, 512, 2, 2)|(1024, 512)|0|0.0|\n|Linear|(1024, 512)|(1024, 10)|5120|0.0|\n|BatchNorm1d|(1024, 10)|(1024, 10)|20|0.0|\n"
          },
          "metadata": {},
          "execution_count": 20
        }
      ]
    },
    {
      "cell_type": "code",
      "source": [
        "set_seed(42)\n",
        "model = get_model2(act_gr, norm=nn.BatchNorm2d).apply(iw)\n",
        "learn = TrainLearner(model, dls, F.cross_entropy, lr=lr, cbs=cbs+xtra, opt_func=optim.AdamW)\n",
        "learn.fit(epochs)"
      ],
      "metadata": {
        "id": "Ly6Cs7lomHyf",
        "outputId": "e47aa060-e6ec-425e-8fc6-855b5eeed515",
        "colab": {
          "base_uri": "https://localhost:8080/",
          "height": 714
        }
      },
      "execution_count": null,
      "outputs": [
        {
          "output_type": "display_data",
          "data": {
            "text/plain": [
              "<IPython.core.display.HTML object>"
            ],
            "text/html": [
              "\n",
              "<style>\n",
              "    /* Turns off some styling */\n",
              "    progress {\n",
              "        /* gets rid of default border in Firefox and Opera. */\n",
              "        border: none;\n",
              "        /* Needs to be in here for Safari polyfill so background images work as expected. */\n",
              "        background-size: auto;\n",
              "    }\n",
              "    progress:not([value]), progress:not([value])::-webkit-progress-bar {\n",
              "        background: repeating-linear-gradient(45deg, #7e7e7e, #7e7e7e 10px, #5c5c5c 10px, #5c5c5c 20px);\n",
              "    }\n",
              "    .progress-bar-interrupted, .progress-bar-interrupted::-webkit-progress-bar {\n",
              "        background: #F44336;\n",
              "    }\n",
              "</style>\n"
            ]
          },
          "metadata": {}
        },
        {
          "output_type": "display_data",
          "data": {
            "text/plain": [
              "<IPython.core.display.HTML object>"
            ],
            "text/html": [
              "<table border=\"1\" class=\"dataframe\">\n",
              "  <thead>\n",
              "    <tr style=\"text-align: left;\">\n",
              "      <th>accuracy</th>\n",
              "      <th>loss</th>\n",
              "      <th>epoch</th>\n",
              "      <th>train</th>\n",
              "    </tr>\n",
              "  </thead>\n",
              "  <tbody>\n",
              "    <tr>\n",
              "      <td>0.822</td>\n",
              "      <td>0.715</td>\n",
              "      <td>0</td>\n",
              "      <td>train</td>\n",
              "    </tr>\n",
              "    <tr>\n",
              "      <td>0.852</td>\n",
              "      <td>0.589</td>\n",
              "      <td>0</td>\n",
              "      <td>eval</td>\n",
              "    </tr>\n",
              "    <tr>\n",
              "      <td>0.897</td>\n",
              "      <td>0.385</td>\n",
              "      <td>1</td>\n",
              "      <td>train</td>\n",
              "    </tr>\n",
              "    <tr>\n",
              "      <td>0.875</td>\n",
              "      <td>0.409</td>\n",
              "      <td>1</td>\n",
              "      <td>eval</td>\n",
              "    </tr>\n",
              "    <tr>\n",
              "      <td>0.920</td>\n",
              "      <td>0.270</td>\n",
              "      <td>2</td>\n",
              "      <td>train</td>\n",
              "    </tr>\n",
              "    <tr>\n",
              "      <td>0.905</td>\n",
              "      <td>0.296</td>\n",
              "      <td>2</td>\n",
              "      <td>eval</td>\n",
              "    </tr>\n",
              "    <tr>\n",
              "      <td>0.941</td>\n",
              "      <td>0.199</td>\n",
              "      <td>3</td>\n",
              "      <td>train</td>\n",
              "    </tr>\n",
              "    <tr>\n",
              "      <td>0.927</td>\n",
              "      <td>0.243</td>\n",
              "      <td>3</td>\n",
              "      <td>eval</td>\n",
              "    </tr>\n",
              "    <tr>\n",
              "      <td>0.962</td>\n",
              "      <td>0.142</td>\n",
              "      <td>4</td>\n",
              "      <td>train</td>\n",
              "    </tr>\n",
              "    <tr>\n",
              "      <td>0.931</td>\n",
              "      <td>0.228</td>\n",
              "      <td>4</td>\n",
              "      <td>eval</td>\n",
              "    </tr>\n",
              "  </tbody>\n",
              "</table>"
            ]
          },
          "metadata": {}
        },
        {
          "output_type": "display_data",
          "data": {
            "text/plain": [
              "<Figure size 600x400 with 1 Axes>"
            ],
            "image/png": "[encoded data removed]"
          },
          "metadata": {}
        }
      ]
    },
    {
      "cell_type": "code",
      "source": [
        "def get_model3(act=nn.ReLU, nfs=(16,32,64,128,256), norm=nn.BatchNorm2d):\n",
        "    layers = [ResBlock(1, 16, ks=5, stride=1, act=act, norm=norm)]\n",
        "    layers += [ResBlock(nfs[i], nfs[i+1], act=act, norm=norm, stride=2) for i in range(len(nfs)-1)]\n",
        "    layers += [GlobalAvgPool(), nn.Linear(256, 10, bias=False), nn.BatchNorm1d(10)]\n",
        "    return nn.Sequential(*layers)"
      ],
      "metadata": {
        "id": "6jR6tGrsmfuU"
      },
      "execution_count": null,
      "outputs": []
    },
    {
      "cell_type": "code",
      "source": [
        "TrainLearner(get_model3(), dls, F.cross_entropy, lr=lr, cbs=[DeviceCB()]).summary()"
      ],
      "metadata": {
        "id": "o4BS6a5Nn9P8",
        "outputId": "ec779241-7f17-4b16-fcda-acaf441e8ff9",
        "colab": {
          "base_uri": "https://localhost:8080/",
          "height": 319
        }
      },
      "execution_count": null,
      "outputs": [
        {
          "output_type": "stream",
          "name": "stdout",
          "text": [
            "Tot params: 1231428; MFLOPS: 18.3\n"
          ]
        },
        {
          "output_type": "execute_result",
          "data": {
            "text/plain": [
              "<IPython.core.display.Markdown object>"
            ],
            "text/markdown": "|Module|Input|Output|Num params|MFLOPS|\n|--|--|--|--|--|\n|ResBlock|(1024, 1, 28, 28)|(1024, 16, 28, 28)|6928|5.3|\n|ResBlock|(1024, 16, 28, 28)|(1024, 32, 14, 14)|14560|2.8|\n|ResBlock|(1024, 32, 14, 14)|(1024, 64, 7, 7)|57792|2.8|\n|ResBlock|(1024, 64, 7, 7)|(1024, 128, 4, 4)|230272|3.7|\n|ResBlock|(1024, 128, 4, 4)|(1024, 256, 2, 2)|919296|3.7|\n|GlobalAvgPool|(1024, 256, 2, 2)|(1024, 256)|0|0.0|\n|Linear|(1024, 256)|(1024, 10)|2560|0.0|\n|BatchNorm1d|(1024, 10)|(1024, 10)|20|0.0|\n"
          },
          "metadata": {},
          "execution_count": 23
        }
      ]
    },
    {
      "cell_type": "code",
      "source": [
        "[o.shape for o in get_model3()[0].parameters()]"
      ],
      "metadata": {
        "id": "hGJc2nPmoFjV",
        "outputId": "3822300e-9c0f-4461-e805-173ac3907784",
        "colab": {
          "base_uri": "https://localhost:8080/"
        }
      },
      "execution_count": null,
      "outputs": [
        {
          "output_type": "execute_result",
          "data": {
            "text/plain": [
              "[torch.Size([16, 1, 5, 5]),\n",
              " torch.Size([16]),\n",
              " torch.Size([16]),\n",
              " torch.Size([16]),\n",
              " torch.Size([16, 16, 5, 5]),\n",
              " torch.Size([16]),\n",
              " torch.Size([16]),\n",
              " torch.Size([16]),\n",
              " torch.Size([16, 1, 1, 1]),\n",
              " torch.Size([16])]"
            ]
          },
          "metadata": {},
          "execution_count": 26
        }
      ]
    },
    {
      "cell_type": "code",
      "source": [
        "set_seed(42)\n",
        "model = get_model3(act_gr, norm=nn.BatchNorm2d).apply(iw)\n",
        "learn = TrainLearner(model, dls, F.cross_entropy, lr=lr, cbs=cbs+xtra, opt_func=optim.AdamW)\n",
        "learn.fit(epochs)"
      ],
      "metadata": {
        "id": "RvNN5tduo3DS",
        "outputId": "d501d29e-ed9d-4752-9338-41635e17ca4f",
        "colab": {
          "base_uri": "https://localhost:8080/",
          "height": 714
        }
      },
      "execution_count": null,
      "outputs": [
        {
          "output_type": "display_data",
          "data": {
            "text/plain": [
              "<IPython.core.display.HTML object>"
            ],
            "text/html": [
              "\n",
              "<style>\n",
              "    /* Turns off some styling */\n",
              "    progress {\n",
              "        /* gets rid of default border in Firefox and Opera. */\n",
              "        border: none;\n",
              "        /* Needs to be in here for Safari polyfill so background images work as expected. */\n",
              "        background-size: auto;\n",
              "    }\n",
              "    progress:not([value]), progress:not([value])::-webkit-progress-bar {\n",
              "        background: repeating-linear-gradient(45deg, #7e7e7e, #7e7e7e 10px, #5c5c5c 10px, #5c5c5c 20px);\n",
              "    }\n",
              "    .progress-bar-interrupted, .progress-bar-interrupted::-webkit-progress-bar {\n",
              "        background: #F44336;\n",
              "    }\n",
              "</style>\n"
            ]
          },
          "metadata": {}
        },
        {
          "output_type": "display_data",
          "data": {
            "text/plain": [
              "<IPython.core.display.HTML object>"
            ],
            "text/html": [
              "<table border=\"1\" class=\"dataframe\">\n",
              "  <thead>\n",
              "    <tr style=\"text-align: left;\">\n",
              "      <th>accuracy</th>\n",
              "      <th>loss</th>\n",
              "      <th>epoch</th>\n",
              "      <th>train</th>\n",
              "    </tr>\n",
              "  </thead>\n",
              "  <tbody>\n",
              "    <tr>\n",
              "      <td>0.810</td>\n",
              "      <td>0.758</td>\n",
              "      <td>0</td>\n",
              "      <td>train</td>\n",
              "    </tr>\n",
              "    <tr>\n",
              "      <td>0.868</td>\n",
              "      <td>0.461</td>\n",
              "      <td>0</td>\n",
              "      <td>eval</td>\n",
              "    </tr>\n",
              "    <tr>\n",
              "      <td>0.895</td>\n",
              "      <td>0.399</td>\n",
              "      <td>1</td>\n",
              "      <td>train</td>\n",
              "    </tr>\n",
              "    <tr>\n",
              "      <td>0.898</td>\n",
              "      <td>0.348</td>\n",
              "      <td>1</td>\n",
              "      <td>eval</td>\n",
              "    </tr>\n",
              "    <tr>\n",
              "      <td>0.920</td>\n",
              "      <td>0.275</td>\n",
              "      <td>2</td>\n",
              "      <td>train</td>\n",
              "    </tr>\n",
              "    <tr>\n",
              "      <td>0.886</td>\n",
              "      <td>0.348</td>\n",
              "      <td>2</td>\n",
              "      <td>eval</td>\n",
              "    </tr>\n",
              "    <tr>\n",
              "      <td>0.939</td>\n",
              "      <td>0.207</td>\n",
              "      <td>3</td>\n",
              "      <td>train</td>\n",
              "    </tr>\n",
              "    <tr>\n",
              "      <td>0.927</td>\n",
              "      <td>0.240</td>\n",
              "      <td>3</td>\n",
              "      <td>eval</td>\n",
              "    </tr>\n",
              "    <tr>\n",
              "      <td>0.961</td>\n",
              "      <td>0.151</td>\n",
              "      <td>4</td>\n",
              "      <td>train</td>\n",
              "    </tr>\n",
              "    <tr>\n",
              "      <td>0.931</td>\n",
              "      <td>0.230</td>\n",
              "      <td>4</td>\n",
              "      <td>eval</td>\n",
              "    </tr>\n",
              "  </tbody>\n",
              "</table>"
            ]
          },
          "metadata": {}
        },
        {
          "output_type": "display_data",
          "data": {
            "text/plain": [
              "<Figure size 600x400 with 1 Axes>"
            ],
            "image/png": "[encoded data removed]"
          },
          "metadata": {}
        }
      ]
    },
    {
      "cell_type": "code",
      "source": [
        "def get_model4(act=nn.ReLU, nfs=(16,32,64,128,256), norm=nn.BatchNorm2d):\n",
        "    layers = [conv(1, 16, ks=5, stride=1, act=act, norm=norm)]\n",
        "    layers += [ResBlock(nfs[i], nfs[i+1], act=act, norm=norm, stride=2) for i in range(len(nfs)-1)]\n",
        "    layers += [GlobalAvgPool(), nn.Linear(256, 10, bias=False), nn.BatchNorm1d(10)]\n",
        "    return nn.Sequential(*layers)"
      ],
      "metadata": {
        "id": "7WxGih9to59V"
      },
      "execution_count": null,
      "outputs": []
    },
    {
      "cell_type": "code",
      "source": [
        "[o.shape for o in get_model4()[0].parameters()]"
      ],
      "metadata": {
        "id": "Uqa7QEdkpRaQ",
        "outputId": "3394d3ff-2f9e-4481-c5d0-2e4f433393fe",
        "colab": {
          "base_uri": "https://localhost:8080/"
        }
      },
      "execution_count": null,
      "outputs": [
        {
          "output_type": "execute_result",
          "data": {
            "text/plain": [
              "[torch.Size([16, 1, 5, 5]),\n",
              " torch.Size([16]),\n",
              " torch.Size([16]),\n",
              " torch.Size([16])]"
            ]
          },
          "metadata": {},
          "execution_count": 29
        }
      ]
    },
    {
      "cell_type": "code",
      "source": [
        "TrainLearner(get_model4(), dls, F.cross_entropy, lr=lr, cbs=[DeviceCB()]).summary()"
      ],
      "metadata": {
        "id": "ljTi_V2PpRso",
        "outputId": "70ff8c46-e833-4d3c-f81e-0cf44dcc2145",
        "colab": {
          "base_uri": "https://localhost:8080/",
          "height": 319
        }
      },
      "execution_count": null,
      "outputs": [
        {
          "output_type": "stream",
          "name": "stdout",
          "text": [
            "Tot params: 1224948; MFLOPS: 13.3\n"
          ]
        },
        {
          "output_type": "execute_result",
          "data": {
            "text/plain": [
              "<IPython.core.display.Markdown object>"
            ],
            "text/markdown": "|Module|Input|Output|Num params|MFLOPS|\n|--|--|--|--|--|\n|Sequential|(1024, 1, 28, 28)|(1024, 16, 28, 28)|448|0.3|\n|ResBlock|(1024, 16, 28, 28)|(1024, 32, 14, 14)|14560|2.8|\n|ResBlock|(1024, 32, 14, 14)|(1024, 64, 7, 7)|57792|2.8|\n|ResBlock|(1024, 64, 7, 7)|(1024, 128, 4, 4)|230272|3.7|\n|ResBlock|(1024, 128, 4, 4)|(1024, 256, 2, 2)|919296|3.7|\n|GlobalAvgPool|(1024, 256, 2, 2)|(1024, 256)|0|0.0|\n|Linear|(1024, 256)|(1024, 10)|2560|0.0|\n|BatchNorm1d|(1024, 10)|(1024, 10)|20|0.0|\n"
          },
          "metadata": {},
          "execution_count": 30
        }
      ]
    },
    {
      "cell_type": "code",
      "source": [
        "set_seed(42)\n",
        "model = get_model4(act_gr, norm=nn.BatchNorm2d).apply(iw)\n",
        "learn = TrainLearner(model, dls, F.cross_entropy, lr=lr, cbs=cbs+xtra, opt_func=optim.AdamW)\n",
        "learn.fit(epochs)"
      ],
      "metadata": {
        "id": "_zEBESEppTXk",
        "outputId": "582cf9c2-cc90-4031-ef95-1735da8ccce3",
        "colab": {
          "base_uri": "https://localhost:8080/",
          "height": 714
        }
      },
      "execution_count": null,
      "outputs": [
        {
          "output_type": "display_data",
          "data": {
            "text/plain": [
              "<IPython.core.display.HTML object>"
            ],
            "text/html": [
              "\n",
              "<style>\n",
              "    /* Turns off some styling */\n",
              "    progress {\n",
              "        /* gets rid of default border in Firefox and Opera. */\n",
              "        border: none;\n",
              "        /* Needs to be in here for Safari polyfill so background images work as expected. */\n",
              "        background-size: auto;\n",
              "    }\n",
              "    progress:not([value]), progress:not([value])::-webkit-progress-bar {\n",
              "        background: repeating-linear-gradient(45deg, #7e7e7e, #7e7e7e 10px, #5c5c5c 10px, #5c5c5c 20px);\n",
              "    }\n",
              "    .progress-bar-interrupted, .progress-bar-interrupted::-webkit-progress-bar {\n",
              "        background: #F44336;\n",
              "    }\n",
              "</style>\n"
            ]
          },
          "metadata": {}
        },
        {
          "output_type": "display_data",
          "data": {
            "text/plain": [
              "<IPython.core.display.HTML object>"
            ],
            "text/html": [
              "<table border=\"1\" class=\"dataframe\">\n",
              "  <thead>\n",
              "    <tr style=\"text-align: left;\">\n",
              "      <th>accuracy</th>\n",
              "      <th>loss</th>\n",
              "      <th>epoch</th>\n",
              "      <th>train</th>\n",
              "    </tr>\n",
              "  </thead>\n",
              "  <tbody>\n",
              "    <tr>\n",
              "      <td>0.804</td>\n",
              "      <td>0.782</td>\n",
              "      <td>0</td>\n",
              "      <td>train</td>\n",
              "    </tr>\n",
              "    <tr>\n",
              "      <td>0.868</td>\n",
              "      <td>0.488</td>\n",
              "      <td>0</td>\n",
              "      <td>eval</td>\n",
              "    </tr>\n",
              "    <tr>\n",
              "      <td>0.899</td>\n",
              "      <td>0.390</td>\n",
              "      <td>1</td>\n",
              "      <td>train</td>\n",
              "    </tr>\n",
              "    <tr>\n",
              "      <td>0.890</td>\n",
              "      <td>0.370</td>\n",
              "      <td>1</td>\n",
              "      <td>eval</td>\n",
              "    </tr>\n",
              "    <tr>\n",
              "      <td>0.919</td>\n",
              "      <td>0.275</td>\n",
              "      <td>2</td>\n",
              "      <td>train</td>\n",
              "    </tr>\n",
              "    <tr>\n",
              "      <td>0.903</td>\n",
              "      <td>0.311</td>\n",
              "      <td>2</td>\n",
              "      <td>eval</td>\n",
              "    </tr>\n",
              "    <tr>\n",
              "      <td>0.941</td>\n",
              "      <td>0.200</td>\n",
              "      <td>3</td>\n",
              "      <td>train</td>\n",
              "    </tr>\n",
              "    <tr>\n",
              "      <td>0.925</td>\n",
              "      <td>0.243</td>\n",
              "      <td>3</td>\n",
              "      <td>eval</td>\n",
              "    </tr>\n",
              "    <tr>\n",
              "      <td>0.962</td>\n",
              "      <td>0.147</td>\n",
              "      <td>4</td>\n",
              "      <td>train</td>\n",
              "    </tr>\n",
              "    <tr>\n",
              "      <td>0.927</td>\n",
              "      <td>0.237</td>\n",
              "      <td>4</td>\n",
              "      <td>eval</td>\n",
              "    </tr>\n",
              "  </tbody>\n",
              "</table>"
            ]
          },
          "metadata": {}
        },
        {
          "output_type": "display_data",
          "data": {
            "text/plain": [
              "<Figure size 600x400 with 1 Axes>"
            ],
            "image/png": "[encoded data removed]"
          },
          "metadata": {}
        }
      ]
    },
    {
      "cell_type": "code",
      "source": [
        "epochs = 20\n",
        "tmax = epochs * len(dls.train)\n",
        "sched = partial(lr_scheduler.OneCycleLR, max_lr=lr, total_steps=tmax)\n",
        "xtra = [BatchSchedCB(sched)]\n",
        "\n",
        "set_seed(42)\n",
        "model = get_model4(act_gr, norm=nn.BatchNorm2d).apply(iw)\n",
        "learn = TrainLearner(model, dls, F.cross_entropy, lr=lr, cbs=cbs+xtra, opt_func=optim.AdamW)\n",
        "learn.fit(epochs)\n"
      ],
      "metadata": {
        "id": "KS-Csl-Mp2k_",
        "outputId": "c9636731-501f-410c-f137-0fb9c293621e",
        "colab": {
          "base_uri": "https://localhost:8080/",
          "height": 1000
        }
      },
      "execution_count": null,
      "outputs": [
        {
          "output_type": "display_data",
          "data": {
            "text/plain": [
              "<IPython.core.display.HTML object>"
            ],
            "text/html": [
              "\n",
              "<style>\n",
              "    /* Turns off some styling */\n",
              "    progress {\n",
              "        /* gets rid of default border in Firefox and Opera. */\n",
              "        border: none;\n",
              "        /* Needs to be in here for Safari polyfill so background images work as expected. */\n",
              "        background-size: auto;\n",
              "    }\n",
              "    progress:not([value]), progress:not([value])::-webkit-progress-bar {\n",
              "        background: repeating-linear-gradient(45deg, #7e7e7e, #7e7e7e 10px, #5c5c5c 10px, #5c5c5c 20px);\n",
              "    }\n",
              "    .progress-bar-interrupted, .progress-bar-interrupted::-webkit-progress-bar {\n",
              "        background: #F44336;\n",
              "    }\n",
              "</style>\n"
            ]
          },
          "metadata": {}
        },
        {
          "output_type": "display_data",
          "data": {
            "text/plain": [
              "<IPython.core.display.HTML object>"
            ],
            "text/html": [
              "<table border=\"1\" class=\"dataframe\">\n",
              "  <thead>\n",
              "    <tr style=\"text-align: left;\">\n",
              "      <th>accuracy</th>\n",
              "      <th>loss</th>\n",
              "      <th>epoch</th>\n",
              "      <th>train</th>\n",
              "    </tr>\n",
              "  </thead>\n",
              "  <tbody>\n",
              "    <tr>\n",
              "      <td>0.787</td>\n",
              "      <td>0.851</td>\n",
              "      <td>0</td>\n",
              "      <td>train</td>\n",
              "    </tr>\n",
              "    <tr>\n",
              "      <td>0.857</td>\n",
              "      <td>0.611</td>\n",
              "      <td>0</td>\n",
              "      <td>eval</td>\n",
              "    </tr>\n",
              "    <tr>\n",
              "      <td>0.890</td>\n",
              "      <td>0.533</td>\n",
              "      <td>1</td>\n",
              "      <td>train</td>\n",
              "    </tr>\n",
              "    <tr>\n",
              "      <td>0.873</td>\n",
              "      <td>0.508</td>\n",
              "      <td>1</td>\n",
              "      <td>eval</td>\n",
              "    </tr>\n",
              "    <tr>\n",
              "      <td>0.910</td>\n",
              "      <td>0.407</td>\n",
              "      <td>2</td>\n",
              "      <td>train</td>\n",
              "    </tr>\n",
              "    <tr>\n",
              "      <td>0.877</td>\n",
              "      <td>0.462</td>\n",
              "      <td>2</td>\n",
              "      <td>eval</td>\n",
              "    </tr>\n",
              "    <tr>\n",
              "      <td>0.915</td>\n",
              "      <td>0.326</td>\n",
              "      <td>3</td>\n",
              "      <td>train</td>\n",
              "    </tr>\n",
              "    <tr>\n",
              "      <td>0.901</td>\n",
              "      <td>0.357</td>\n",
              "      <td>3</td>\n",
              "      <td>eval</td>\n",
              "    </tr>\n",
              "    <tr>\n",
              "      <td>0.921</td>\n",
              "      <td>0.272</td>\n",
              "      <td>4</td>\n",
              "      <td>train</td>\n",
              "    </tr>\n",
              "    <tr>\n",
              "      <td>0.905</td>\n",
              "      <td>0.296</td>\n",
              "      <td>4</td>\n",
              "      <td>eval</td>\n",
              "    </tr>\n",
              "    <tr>\n",
              "      <td>0.929</td>\n",
              "      <td>0.230</td>\n",
              "      <td>5</td>\n",
              "      <td>train</td>\n",
              "    </tr>\n",
              "    <tr>\n",
              "      <td>0.900</td>\n",
              "      <td>0.302</td>\n",
              "      <td>5</td>\n",
              "      <td>eval</td>\n",
              "    </tr>\n",
              "    <tr>\n",
              "      <td>0.940</td>\n",
              "      <td>0.192</td>\n",
              "      <td>6</td>\n",
              "      <td>train</td>\n",
              "    </tr>\n",
              "    <tr>\n",
              "      <td>0.895</td>\n",
              "      <td>0.322</td>\n",
              "      <td>6</td>\n",
              "      <td>eval</td>\n",
              "    </tr>\n",
              "    <tr>\n",
              "      <td>0.946</td>\n",
              "      <td>0.168</td>\n",
              "      <td>7</td>\n",
              "      <td>train</td>\n",
              "    </tr>\n",
              "    <tr>\n",
              "      <td>0.885</td>\n",
              "      <td>0.341</td>\n",
              "      <td>7</td>\n",
              "      <td>eval</td>\n",
              "    </tr>\n",
              "    <tr>\n",
              "      <td>0.952</td>\n",
              "      <td>0.147</td>\n",
              "      <td>8</td>\n",
              "      <td>train</td>\n",
              "    </tr>\n",
              "    <tr>\n",
              "      <td>0.904</td>\n",
              "      <td>0.299</td>\n",
              "      <td>8</td>\n",
              "      <td>eval</td>\n",
              "    </tr>\n",
              "    <tr>\n",
              "      <td>0.964</td>\n",
              "      <td>0.115</td>\n",
              "      <td>9</td>\n",
              "      <td>train</td>\n",
              "    </tr>\n",
              "    <tr>\n",
              "      <td>0.912</td>\n",
              "      <td>0.267</td>\n",
              "      <td>9</td>\n",
              "      <td>eval</td>\n",
              "    </tr>\n",
              "    <tr>\n",
              "      <td>0.971</td>\n",
              "      <td>0.093</td>\n",
              "      <td>10</td>\n",
              "      <td>train</td>\n",
              "    </tr>\n",
              "    <tr>\n",
              "      <td>0.924</td>\n",
              "      <td>0.247</td>\n",
              "      <td>10</td>\n",
              "      <td>eval</td>\n",
              "    </tr>\n",
              "    <tr>\n",
              "      <td>0.980</td>\n",
              "      <td>0.069</td>\n",
              "      <td>11</td>\n",
              "      <td>train</td>\n",
              "    </tr>\n",
              "    <tr>\n",
              "      <td>0.917</td>\n",
              "      <td>0.281</td>\n",
              "      <td>11</td>\n",
              "      <td>eval</td>\n",
              "    </tr>\n",
              "    <tr>\n",
              "      <td>0.988</td>\n",
              "      <td>0.048</td>\n",
              "      <td>12</td>\n",
              "      <td>train</td>\n",
              "    </tr>\n",
              "    <tr>\n",
              "      <td>0.926</td>\n",
              "      <td>0.251</td>\n",
              "      <td>12</td>\n",
              "      <td>eval</td>\n",
              "    </tr>\n",
              "    <tr>\n",
              "      <td>0.995</td>\n",
              "      <td>0.028</td>\n",
              "      <td>13</td>\n",
              "      <td>train</td>\n",
              "    </tr>\n",
              "    <tr>\n",
              "      <td>0.927</td>\n",
              "      <td>0.253</td>\n",
              "      <td>13</td>\n",
              "      <td>eval</td>\n",
              "    </tr>\n",
              "    <tr>\n",
              "      <td>0.998</td>\n",
              "      <td>0.017</td>\n",
              "      <td>14</td>\n",
              "      <td>train</td>\n",
              "    </tr>\n",
              "    <tr>\n",
              "      <td>0.931</td>\n",
              "      <td>0.248</td>\n",
              "      <td>14</td>\n",
              "      <td>eval</td>\n",
              "    </tr>\n",
              "    <tr>\n",
              "      <td>1.000</td>\n",
              "      <td>0.010</td>\n",
              "      <td>15</td>\n",
              "      <td>train</td>\n",
              "    </tr>\n",
              "    <tr>\n",
              "      <td>0.930</td>\n",
              "      <td>0.251</td>\n",
              "      <td>15</td>\n",
              "      <td>eval</td>\n",
              "    </tr>\n",
              "    <tr>\n",
              "      <td>1.000</td>\n",
              "      <td>0.008</td>\n",
              "      <td>16</td>\n",
              "      <td>train</td>\n",
              "    </tr>\n",
              "    <tr>\n",
              "      <td>0.931</td>\n",
              "      <td>0.249</td>\n",
              "      <td>16</td>\n",
              "      <td>eval</td>\n",
              "    </tr>\n",
              "    <tr>\n",
              "      <td>1.000</td>\n",
              "      <td>0.008</td>\n",
              "      <td>17</td>\n",
              "      <td>train</td>\n",
              "    </tr>\n",
              "    <tr>\n",
              "      <td>0.932</td>\n",
              "      <td>0.251</td>\n",
              "      <td>17</td>\n",
              "      <td>eval</td>\n",
              "    </tr>\n",
              "    <tr>\n",
              "      <td>1.000</td>\n",
              "      <td>0.007</td>\n",
              "      <td>18</td>\n",
              "      <td>train</td>\n",
              "    </tr>\n",
              "    <tr>\n",
              "      <td>0.931</td>\n",
              "      <td>0.252</td>\n",
              "      <td>18</td>\n",
              "      <td>eval</td>\n",
              "    </tr>\n",
              "    <tr>\n",
              "      <td>1.000</td>\n",
              "      <td>0.007</td>\n",
              "      <td>19</td>\n",
              "      <td>train</td>\n",
              "    </tr>\n",
              "    <tr>\n",
              "      <td>0.931</td>\n",
              "      <td>0.251</td>\n",
              "      <td>19</td>\n",
              "      <td>eval</td>\n",
              "    </tr>\n",
              "  </tbody>\n",
              "</table>"
            ]
          },
          "metadata": {}
        },
        {
          "output_type": "display_data",
          "data": {
            "text/plain": [
              "<Figure size 600x400 with 1 Axes>"
            ],
            "image/png": "[encoded data removed]"
          },
          "metadata": {}
        }
      ]
    },
    {
      "cell_type": "markdown",
      "source": [
        "## Data augmentation"
      ],
      "metadata": {
        "id": "DIYlwcZ8pVYI"
      }
    },
    {
      "cell_type": "markdown",
      "source": [
        "20 epoch training without any augmentation get's us to\n",
        "```\n",
        "1.000\t0.007\t19\ttrain\n",
        "0.931\t0.251\t19\teval\n",
        "```\n",
        "Using batchnorm prevents weight decay from regularisaiton. Enter augmentation"
      ],
      "metadata": {
        "id": "K2AebjiqtXKe"
      }
    },
    {
      "cell_type": "code",
      "source": [
        "from torchvision import transforms"
      ],
      "metadata": {
        "id": "sL_QxeqbpcyR"
      },
      "execution_count": 9,
      "outputs": []
    },
    {
      "cell_type": "code",
      "source": [
        "def tfm_batch(b, tfm_x=fc.noop, tfm_y=fc.noop): return tfm_x(b[0]),tfm_y(b[1])\n",
        "\n",
        "tfms = nn.Sequential(transforms.RandomCrop(28, padding=4), transforms.RandomHorizontalFlip())\n",
        "\n",
        "augcb = BatchTransformCB(partial(tfm_batch, tfm_x=tfms), on_val=False)\n",
        "model = get_model()\n",
        "learn = TrainLearner(model, dls, F.cross_entropy, lr=lr, cbs=[SingleBatchCB(), augcb])"
      ],
      "metadata": {
        "id": "dPpIh3XttzKy"
      },
      "execution_count": 10,
      "outputs": []
    },
    {
      "cell_type": "code",
      "source": [
        "learn.fit(1)"
      ],
      "metadata": {
        "id": "ELqQTKYuxy3F"
      },
      "execution_count": null,
      "outputs": []
    },
    {
      "cell_type": "code",
      "source": [
        "xb, yb = learn.batch\n",
        "show_images(xb[:16], imsize=1.5)"
      ],
      "metadata": {
        "id": "4ty7IE6ByFCu",
        "outputId": "ca3d6b8b-1ca4-412c-a4c1-8f25fddf5060",
        "colab": {
          "base_uri": "https://localhost:8080/",
          "height": 499
        }
      },
      "execution_count": null,
      "outputs": [
        {
          "output_type": "display_data",
          "data": {
            "text/plain": [
              "<Figure size 600x600 with 16 Axes>"
            ],
            "image/png": "[encoded data removed]"
          },
          "metadata": {}
        }
      ]
    },
    {
      "cell_type": "code",
      "source": [
        "@fc.patch\n",
        "@fc.delegates(show_images)\n",
        "def show_image_batch(self:Learner, max_n=9, cbs=None, **kwargs):\n",
        "    self.fit(1, cbs=[SingleBatchCB()] + fc.L(cbs))\n",
        "    show_images(self.batch[0][:max_n], **kwargs)"
      ],
      "metadata": {
        "id": "I0oIZRbVyKYh"
      },
      "execution_count": 13,
      "outputs": []
    },
    {
      "cell_type": "code",
      "source": [
        "learn.show_image_batch(max_n=16, imsize=(1.5))"
      ],
      "metadata": {
        "id": "pTyv0_YNyuV1",
        "outputId": "efd9297c-4da2-40ae-84ac-0a888dfd2e23",
        "colab": {
          "base_uri": "https://localhost:8080/",
          "height": 499
        }
      },
      "execution_count": null,
      "outputs": [
        {
          "output_type": "display_data",
          "data": {
            "text/plain": [
              "<Figure size 600x600 with 16 Axes>"
            ],
            "image/png": "[encoded data removed]"
          },
          "metadata": {}
        }
      ]
    },
    {
      "cell_type": "code",
      "source": [
        "tfms = nn.Sequential(transforms.RandomCrop(28, padding=1), transforms.RandomHorizontalFlip())\n",
        "augcb = BatchTransformCB(partial(tfm_batch, tfm_x=tfms), on_val=False)"
      ],
      "metadata": {
        "id": "G7PX34Vv0CtL"
      },
      "execution_count": 11,
      "outputs": []
    },
    {
      "cell_type": "code",
      "source": [
        "set_seed(42)\n",
        "epochs = 20\n",
        "lr = 1e-2\n",
        "tmax = epochs * len(dls.train)\n",
        "sched = partial(lr_scheduler.OneCycleLR, max_lr=lr, total_steps=tmax)\n",
        "xtra = [BatchSchedCB(sched), augcb]\n",
        "model = get_model(act_gr, norm=nn.BatchNorm2d).apply(iw)\n",
        "learn = TrainLearner(model, dls, F.cross_entropy, lr=lr, cbs=cbs+xtra, opt_func=optim.AdamW)\n",
        "learn.fit(epochs)\n"
      ],
      "metadata": {
        "id": "g1MxW5rs0TyW",
        "outputId": "afa73845-3a1e-47bc-c720-e28abacd2f24",
        "colab": {
          "base_uri": "https://localhost:8080/",
          "height": 1000
        }
      },
      "execution_count": null,
      "outputs": [
        {
          "output_type": "display_data",
          "data": {
            "text/plain": [
              "<IPython.core.display.HTML object>"
            ],
            "text/html": [
              "\n",
              "<style>\n",
              "    /* Turns off some styling */\n",
              "    progress {\n",
              "        /* gets rid of default border in Firefox and Opera. */\n",
              "        border: none;\n",
              "        /* Needs to be in here for Safari polyfill so background images work as expected. */\n",
              "        background-size: auto;\n",
              "    }\n",
              "    progress:not([value]), progress:not([value])::-webkit-progress-bar {\n",
              "        background: repeating-linear-gradient(45deg, #7e7e7e, #7e7e7e 10px, #5c5c5c 10px, #5c5c5c 20px);\n",
              "    }\n",
              "    .progress-bar-interrupted, .progress-bar-interrupted::-webkit-progress-bar {\n",
              "        background: #F44336;\n",
              "    }\n",
              "</style>\n"
            ]
          },
          "metadata": {}
        },
        {
          "output_type": "display_data",
          "data": {
            "text/plain": [
              "<IPython.core.display.HTML object>"
            ],
            "text/html": [
              "<table border=\"1\" class=\"dataframe\">\n",
              "  <thead>\n",
              "    <tr style=\"text-align: left;\">\n",
              "      <th>accuracy</th>\n",
              "      <th>loss</th>\n",
              "      <th>epoch</th>\n",
              "      <th>train</th>\n",
              "    </tr>\n",
              "  </thead>\n",
              "  <tbody>\n",
              "    <tr>\n",
              "      <td>0.764</td>\n",
              "      <td>0.878</td>\n",
              "      <td>0</td>\n",
              "      <td>train</td>\n",
              "    </tr>\n",
              "    <tr>\n",
              "      <td>0.824</td>\n",
              "      <td>0.603</td>\n",
              "      <td>0</td>\n",
              "      <td>eval</td>\n",
              "    </tr>\n",
              "    <tr>\n",
              "      <td>0.859</td>\n",
              "      <td>0.596</td>\n",
              "      <td>1</td>\n",
              "      <td>train</td>\n",
              "    </tr>\n",
              "    <tr>\n",
              "      <td>0.874</td>\n",
              "      <td>0.481</td>\n",
              "      <td>1</td>\n",
              "      <td>eval</td>\n",
              "    </tr>\n",
              "    <tr>\n",
              "      <td>0.878</td>\n",
              "      <td>0.476</td>\n",
              "      <td>2</td>\n",
              "      <td>train</td>\n",
              "    </tr>\n",
              "    <tr>\n",
              "      <td>0.852</td>\n",
              "      <td>0.485</td>\n",
              "      <td>2</td>\n",
              "      <td>eval</td>\n",
              "    </tr>\n",
              "    <tr>\n",
              "      <td>0.887</td>\n",
              "      <td>0.394</td>\n",
              "      <td>3</td>\n",
              "      <td>train</td>\n",
              "    </tr>\n",
              "    <tr>\n",
              "      <td>0.866</td>\n",
              "      <td>0.399</td>\n",
              "      <td>3</td>\n",
              "      <td>eval</td>\n",
              "    </tr>\n",
              "    <tr>\n",
              "      <td>0.894</td>\n",
              "      <td>0.342</td>\n",
              "      <td>4</td>\n",
              "      <td>train</td>\n",
              "    </tr>\n",
              "    <tr>\n",
              "      <td>0.898</td>\n",
              "      <td>0.323</td>\n",
              "      <td>4</td>\n",
              "      <td>eval</td>\n",
              "    </tr>\n",
              "    <tr>\n",
              "      <td>0.907</td>\n",
              "      <td>0.286</td>\n",
              "      <td>5</td>\n",
              "      <td>train</td>\n",
              "    </tr>\n",
              "    <tr>\n",
              "      <td>0.896</td>\n",
              "      <td>0.309</td>\n",
              "      <td>5</td>\n",
              "      <td>eval</td>\n",
              "    </tr>\n",
              "    <tr>\n",
              "      <td>0.914</td>\n",
              "      <td>0.256</td>\n",
              "      <td>6</td>\n",
              "      <td>train</td>\n",
              "    </tr>\n",
              "    <tr>\n",
              "      <td>0.879</td>\n",
              "      <td>0.334</td>\n",
              "      <td>6</td>\n",
              "      <td>eval</td>\n",
              "    </tr>\n",
              "    <tr>\n",
              "      <td>0.921</td>\n",
              "      <td>0.233</td>\n",
              "      <td>7</td>\n",
              "      <td>train</td>\n",
              "    </tr>\n",
              "    <tr>\n",
              "      <td>0.906</td>\n",
              "      <td>0.274</td>\n",
              "      <td>7</td>\n",
              "      <td>eval</td>\n",
              "    </tr>\n",
              "    <tr>\n",
              "      <td>0.924</td>\n",
              "      <td>0.222</td>\n",
              "      <td>8</td>\n",
              "      <td>train</td>\n",
              "    </tr>\n",
              "    <tr>\n",
              "      <td>0.916</td>\n",
              "      <td>0.233</td>\n",
              "      <td>8</td>\n",
              "      <td>eval</td>\n",
              "    </tr>\n",
              "    <tr>\n",
              "      <td>0.931</td>\n",
              "      <td>0.199</td>\n",
              "      <td>9</td>\n",
              "      <td>train</td>\n",
              "    </tr>\n",
              "    <tr>\n",
              "      <td>0.911</td>\n",
              "      <td>0.252</td>\n",
              "      <td>9</td>\n",
              "      <td>eval</td>\n",
              "    </tr>\n",
              "    <tr>\n",
              "      <td>0.936</td>\n",
              "      <td>0.185</td>\n",
              "      <td>10</td>\n",
              "      <td>train</td>\n",
              "    </tr>\n",
              "    <tr>\n",
              "      <td>0.923</td>\n",
              "      <td>0.214</td>\n",
              "      <td>10</td>\n",
              "      <td>eval</td>\n",
              "    </tr>\n",
              "    <tr>\n",
              "      <td>0.942</td>\n",
              "      <td>0.170</td>\n",
              "      <td>11</td>\n",
              "      <td>train</td>\n",
              "    </tr>\n",
              "    <tr>\n",
              "      <td>0.923</td>\n",
              "      <td>0.225</td>\n",
              "      <td>11</td>\n",
              "      <td>eval</td>\n",
              "    </tr>\n",
              "    <tr>\n",
              "      <td>0.944</td>\n",
              "      <td>0.162</td>\n",
              "      <td>12</td>\n",
              "      <td>train</td>\n",
              "    </tr>\n",
              "    <tr>\n",
              "      <td>0.926</td>\n",
              "      <td>0.209</td>\n",
              "      <td>12</td>\n",
              "      <td>eval</td>\n",
              "    </tr>\n",
              "    <tr>\n",
              "      <td>0.948</td>\n",
              "      <td>0.149</td>\n",
              "      <td>13</td>\n",
              "      <td>train</td>\n",
              "    </tr>\n",
              "    <tr>\n",
              "      <td>0.930</td>\n",
              "      <td>0.198</td>\n",
              "      <td>13</td>\n",
              "      <td>eval</td>\n",
              "    </tr>\n",
              "    <tr>\n",
              "      <td>0.952</td>\n",
              "      <td>0.139</td>\n",
              "      <td>14</td>\n",
              "      <td>train</td>\n",
              "    </tr>\n",
              "    <tr>\n",
              "      <td>0.935</td>\n",
              "      <td>0.192</td>\n",
              "      <td>14</td>\n",
              "      <td>eval</td>\n",
              "    </tr>\n",
              "    <tr>\n",
              "      <td>0.958</td>\n",
              "      <td>0.121</td>\n",
              "      <td>15</td>\n",
              "      <td>train</td>\n",
              "    </tr>\n",
              "    <tr>\n",
              "      <td>0.939</td>\n",
              "      <td>0.179</td>\n",
              "      <td>15</td>\n",
              "      <td>eval</td>\n",
              "    </tr>\n",
              "    <tr>\n",
              "      <td>0.962</td>\n",
              "      <td>0.111</td>\n",
              "      <td>16</td>\n",
              "      <td>train</td>\n",
              "    </tr>\n",
              "    <tr>\n",
              "      <td>0.939</td>\n",
              "      <td>0.179</td>\n",
              "      <td>16</td>\n",
              "      <td>eval</td>\n",
              "    </tr>\n",
              "    <tr>\n",
              "      <td>0.966</td>\n",
              "      <td>0.103</td>\n",
              "      <td>17</td>\n",
              "      <td>train</td>\n",
              "    </tr>\n",
              "    <tr>\n",
              "      <td>0.939</td>\n",
              "      <td>0.180</td>\n",
              "      <td>17</td>\n",
              "      <td>eval</td>\n",
              "    </tr>\n",
              "    <tr>\n",
              "      <td>0.970</td>\n",
              "      <td>0.093</td>\n",
              "      <td>18</td>\n",
              "      <td>train</td>\n",
              "    </tr>\n",
              "    <tr>\n",
              "      <td>0.940</td>\n",
              "      <td>0.179</td>\n",
              "      <td>18</td>\n",
              "      <td>eval</td>\n",
              "    </tr>\n",
              "    <tr>\n",
              "      <td>0.970</td>\n",
              "      <td>0.090</td>\n",
              "      <td>19</td>\n",
              "      <td>train</td>\n",
              "    </tr>\n",
              "    <tr>\n",
              "      <td>0.940</td>\n",
              "      <td>0.177</td>\n",
              "      <td>19</td>\n",
              "      <td>eval</td>\n",
              "    </tr>\n",
              "  </tbody>\n",
              "</table>"
            ]
          },
          "metadata": {}
        },
        {
          "output_type": "display_data",
          "data": {
            "text/plain": [
              "<Figure size 600x400 with 1 Axes>"
            ],
            "image/png": "[encoded data removed]"
          },
          "metadata": {}
        }
      ]
    },
    {
      "cell_type": "code",
      "source": [
        "mdl_path = Path('models')\n",
        "mdl_path.mkdir(exist_ok=True)\n",
        "torch.save(learn.model, mdl_path/'data_aug.pkl')"
      ],
      "metadata": {
        "id": "X8APl5nr0dO-"
      },
      "execution_count": null,
      "outputs": []
    },
    {
      "cell_type": "code",
      "source": [
        "# load from drive. use as needed with useful paths\n",
        "from google.colab import drive\n",
        "\n",
        "def load_model_drive(src, dst=None, mnt='/content/drive'):\n",
        "    drive.mount(mnt)\n",
        "\n",
        "    src = Path(src)\n",
        "    if dst is None:\n",
        "        dst = src\n",
        "    else:\n",
        "        dst = Path(dst)\n",
        "        dst.parent.mkdir(exist_ok=True)\n",
        "        shutil.copy(src, dst)\n",
        "    model = torch.load(dst).to(def_device)\n",
        "    return model"
      ],
      "metadata": {
        "id": "AOYFBQTCx8mU"
      },
      "execution_count": 8,
      "outputs": []
    },
    {
      "cell_type": "code",
      "source": [
        "model = load_model_drive('/content/drive/MyDrive/Colab_Assets/diffusion-play/data_aug.pkl', '/content/models/data_aug.pkl')"
      ],
      "metadata": {
        "colab": {
          "base_uri": "https://localhost:8080/"
        },
        "id": "HaeedaTx-8Ij",
        "outputId": "23127f3d-6c12-47aa-9d24-538a05f6d469"
      },
      "execution_count": 12,
      "outputs": [
        {
          "output_type": "stream",
          "name": "stdout",
          "text": [
            "Mounted at /content/drive\n"
          ]
        }
      ]
    },
    {
      "cell_type": "markdown",
      "source": [
        "## Test time augmentation (TTA)"
      ],
      "metadata": {
        "id": "X-tuSi_b1BiZ"
      }
    },
    {
      "cell_type": "code",
      "source": [
        "class CapturePreds(Callback):\n",
        "    def before_fit(self, learn): self.all_inps, self.all_preds, self.all_targs = [], [], []\n",
        "    def after_batch(self, learn):\n",
        "        self.all_inps.append(to_cpu(learn.batch[0]))\n",
        "        self.all_preds.append(to_cpu(learn.preds))\n",
        "        self.all_targs.append(to_cpu(learn.batch[1]))\n",
        "    def after_fit(self, learn):\n",
        "        self.all_inps, self.all_preds, self.all_targs = map(torch.cat, [self.all_inps, self.all_preds, self.all_targs])"
      ],
      "metadata": {
        "id": "-evgP3rr1EUg"
      },
      "execution_count": 13,
      "outputs": []
    },
    {
      "cell_type": "code",
      "source": [
        "@fc.patch\n",
        "def capture_preds(self: Learner, cbs=None, inps=False):\n",
        "    cp = CapturePreds()\n",
        "    self.fit(1, train=False, cbs=[cp]+fc.L(cbs))\n",
        "    res = cp.all_preds, cp.all_targs\n",
        "    if inps: res = res + (cp.all_inps,)\n",
        "    return res"
      ],
      "metadata": {
        "id": "bEx3EVSH2QGb"
      },
      "execution_count": 14,
      "outputs": []
    },
    {
      "cell_type": "code",
      "source": [
        "# create a learner that doesn't plot just to avoid output mess, only care about preds/acc\n",
        "metrics = MetricsCB(accuracy=MulticlassAccuracy())\n",
        "astats = ActivationStats(fc.risinstance(GeneralRelu))\n",
        "cbs = [DeviceCB(), metrics, ProgressCB(plot=False)]\n",
        "\n",
        "set_seed(42)\n",
        "epochs = 20\n",
        "lr = 1e-2\n",
        "tmax = epochs * len(dls.train)\n",
        "sched = partial(lr_scheduler.OneCycleLR, max_lr=lr, total_steps=tmax)\n",
        "xtra = [BatchSchedCB(sched), augcb]\n",
        "# load model above\n",
        "# model = get_model(act_gr, norm=nn.BatchNorm2d).apply(iw)\n",
        "learn = TrainLearner(model, dls, F.cross_entropy, lr=lr, cbs=cbs+xtra, opt_func=optim.AdamW)"
      ],
      "metadata": {
        "id": "FXz6-EU96WHD"
      },
      "execution_count": 15,
      "outputs": []
    },
    {
      "cell_type": "code",
      "source": [
        "ap1, at = learn.capture_preds()"
      ],
      "metadata": {
        "id": "mXCzjiyh222-",
        "outputId": "a03a460f-92ef-4da6-de99-3c825dd853ba",
        "colab": {
          "base_uri": "https://localhost:8080/",
          "height": 81
        }
      },
      "execution_count": 16,
      "outputs": [
        {
          "output_type": "display_data",
          "data": {
            "text/plain": [
              "<IPython.core.display.HTML object>"
            ],
            "text/html": [
              "\n",
              "<style>\n",
              "    /* Turns off some styling */\n",
              "    progress {\n",
              "        /* gets rid of default border in Firefox and Opera. */\n",
              "        border: none;\n",
              "        /* Needs to be in here for Safari polyfill so background images work as expected. */\n",
              "        background-size: auto;\n",
              "    }\n",
              "    progress:not([value]), progress:not([value])::-webkit-progress-bar {\n",
              "        background: repeating-linear-gradient(45deg, #7e7e7e, #7e7e7e 10px, #5c5c5c 10px, #5c5c5c 20px);\n",
              "    }\n",
              "    .progress-bar-interrupted, .progress-bar-interrupted::-webkit-progress-bar {\n",
              "        background: #F44336;\n",
              "    }\n",
              "</style>\n"
            ]
          },
          "metadata": {}
        },
        {
          "output_type": "display_data",
          "data": {
            "text/plain": [
              "<IPython.core.display.HTML object>"
            ],
            "text/html": [
              "<table border=\"1\" class=\"dataframe\">\n",
              "  <thead>\n",
              "    <tr style=\"text-align: left;\">\n",
              "      <th>accuracy</th>\n",
              "      <th>loss</th>\n",
              "      <th>epoch</th>\n",
              "      <th>train</th>\n",
              "    </tr>\n",
              "  </thead>\n",
              "  <tbody>\n",
              "    <tr>\n",
              "      <td>0.940</td>\n",
              "      <td>0.177</td>\n",
              "      <td>0</td>\n",
              "      <td>eval</td>\n",
              "    </tr>\n",
              "  </tbody>\n",
              "</table>"
            ]
          },
          "metadata": {}
        }
      ]
    },
    {
      "cell_type": "code",
      "source": [
        "ttacb = BatchTransformCB(partial(tfm_batch, tfm_x=TF.hflip), on_val=True)\n",
        "ap2, at = learn.capture_preds(cbs=[ttacb])"
      ],
      "metadata": {
        "colab": {
          "base_uri": "https://localhost:8080/",
          "height": 81
        },
        "id": "ky7QAtB2_yIh",
        "outputId": "95c79e27-e0cc-443d-ec4a-416d779b7ffa"
      },
      "execution_count": 17,
      "outputs": [
        {
          "output_type": "display_data",
          "data": {
            "text/plain": [
              "<IPython.core.display.HTML object>"
            ],
            "text/html": [
              "\n",
              "<style>\n",
              "    /* Turns off some styling */\n",
              "    progress {\n",
              "        /* gets rid of default border in Firefox and Opera. */\n",
              "        border: none;\n",
              "        /* Needs to be in here for Safari polyfill so background images work as expected. */\n",
              "        background-size: auto;\n",
              "    }\n",
              "    progress:not([value]), progress:not([value])::-webkit-progress-bar {\n",
              "        background: repeating-linear-gradient(45deg, #7e7e7e, #7e7e7e 10px, #5c5c5c 10px, #5c5c5c 20px);\n",
              "    }\n",
              "    .progress-bar-interrupted, .progress-bar-interrupted::-webkit-progress-bar {\n",
              "        background: #F44336;\n",
              "    }\n",
              "</style>\n"
            ]
          },
          "metadata": {}
        },
        {
          "output_type": "display_data",
          "data": {
            "text/plain": [
              "<IPython.core.display.HTML object>"
            ],
            "text/html": [
              "<table border=\"1\" class=\"dataframe\">\n",
              "  <thead>\n",
              "    <tr style=\"text-align: left;\">\n",
              "      <th>accuracy</th>\n",
              "      <th>loss</th>\n",
              "      <th>epoch</th>\n",
              "      <th>train</th>\n",
              "    </tr>\n",
              "  </thead>\n",
              "  <tbody>\n",
              "    <tr>\n",
              "      <td>0.943</td>\n",
              "      <td>0.178</td>\n",
              "      <td>0</td>\n",
              "      <td>eval</td>\n",
              "    </tr>\n",
              "  </tbody>\n",
              "</table>"
            ]
          },
          "metadata": {}
        }
      ]
    },
    {
      "cell_type": "code",
      "source": [
        "ap1.shape, ap2.shape, at.shape"
      ],
      "metadata": {
        "colab": {
          "base_uri": "https://localhost:8080/"
        },
        "id": "5enSDyI1AGLR",
        "outputId": "b1076ea4-2b0a-4aac-911b-7cd78d2b420f"
      },
      "execution_count": 18,
      "outputs": [
        {
          "output_type": "execute_result",
          "data": {
            "text/plain": [
              "(torch.Size([10000, 10]), torch.Size([10000, 10]), torch.Size([10000]))"
            ]
          },
          "metadata": {},
          "execution_count": 18
        }
      ]
    },
    {
      "cell_type": "code",
      "source": [
        "ap = torch.stack([ap1, ap2]).mean(0).argmax(1)"
      ],
      "metadata": {
        "id": "7Z4vKhYfAapK"
      },
      "execution_count": 19,
      "outputs": []
    },
    {
      "cell_type": "code",
      "source": [
        "round((ap==at).float().mean().item(), 3)"
      ],
      "metadata": {
        "colab": {
          "base_uri": "https://localhost:8080/"
        },
        "id": "hzO39qyNAwBM",
        "outputId": "4bf4216c-62f8-4c70-c69d-b6f38a326717"
      },
      "execution_count": 20,
      "outputs": [
        {
          "output_type": "execute_result",
          "data": {
            "text/plain": [
              "0.944"
            ]
          },
          "metadata": {},
          "execution_count": 20
        }
      ]
    },
    {
      "cell_type": "markdown",
      "source": [
        "## Random erase"
      ],
      "metadata": {
        "id": "HMqd1DBsBMAU"
      }
    },
    {
      "cell_type": "code",
      "source": [
        "xb, _ = next(iter(dls.train))\n",
        "xbt = xb[:16]"
      ],
      "metadata": {
        "id": "UoOy3g5vBNsi"
      },
      "execution_count": 24,
      "outputs": []
    },
    {
      "cell_type": "code",
      "source": [
        "xm, xs = xbt.mean(), xbt.std()"
      ],
      "metadata": {
        "id": "sX8Hc-eE1By4"
      },
      "execution_count": 26,
      "outputs": []
    },
    {
      "cell_type": "code",
      "source": [
        "xbt.min(), xbt.max()"
      ],
      "metadata": {
        "id": "xurHwXHc1Pxo",
        "outputId": "a03f1a4d-d625-4d07-bfd7-22b4bfdf1502",
        "colab": {
          "base_uri": "https://localhost:8080/"
        }
      },
      "execution_count": 27,
      "outputs": [
        {
          "output_type": "execute_result",
          "data": {
            "text/plain": [
              "(tensor(-0.80), tensor(2.06))"
            ]
          },
          "metadata": {},
          "execution_count": 27
        }
      ]
    },
    {
      "cell_type": "code",
      "source": [
        "pct = 0.2"
      ],
      "metadata": {
        "id": "EnAZFngS1Rua"
      },
      "execution_count": 28,
      "outputs": []
    },
    {
      "cell_type": "code",
      "source": [
        "szx = int(pct * xbt.shape[-2])\n",
        "szy = int(pct * xbt.shape[-1])\n",
        "stx = int(random.random() * (1 - pct) * xbt.shape[-2])\n",
        "sty = int(random.random() * (1 - pct) * xbt.shape[-1])\n",
        "stx, sty, szx, szy"
      ],
      "metadata": {
        "id": "pWtOtHOF3N4_",
        "outputId": "6fd9534b-0070-4f65-cbdd-2d2684e8ee8e",
        "colab": {
          "base_uri": "https://localhost:8080/"
        }
      },
      "execution_count": 30,
      "outputs": [
        {
          "output_type": "execute_result",
          "data": {
            "text/plain": [
              "(6, 4, 5, 5)"
            ]
          },
          "metadata": {},
          "execution_count": 30
        }
      ]
    },
    {
      "cell_type": "code",
      "source": [
        "init.normal_(xbt[:, :, stx:stx+szx, sty:sty+szy], mean=xm, std=xs);"
      ],
      "metadata": {
        "id": "gKIQ8CU23seB"
      },
      "execution_count": 33,
      "outputs": []
    },
    {
      "cell_type": "code",
      "source": [
        "show_images(xbt, imsize=1.5)"
      ],
      "metadata": {
        "id": "Y6lAu-lz35b7",
        "outputId": "6f6c181d-9a8b-4f5d-b809-73ef8272c406",
        "colab": {
          "base_uri": "https://localhost:8080/",
          "height": 499
        }
      },
      "execution_count": 34,
      "outputs": [
        {
          "output_type": "display_data",
          "data": {
            "text/plain": [
              "<Figure size 600x600 with 16 Axes>"
            ],
            "image/png": "[encoded data removed]"
          },
          "metadata": {}
        }
      ]
    },
    {
      "cell_type": "code",
      "source": [
        "xbt.min(), xbt.max()"
      ],
      "metadata": {
        "id": "P1HznEyK4CU6",
        "outputId": "2bfcea01-9874-45ff-9e35-33c0d1d5562e",
        "colab": {
          "base_uri": "https://localhost:8080/"
        }
      },
      "execution_count": 35,
      "outputs": [
        {
          "output_type": "execute_result",
          "data": {
            "text/plain": [
              "(tensor(-3.31), tensor(2.45))"
            ]
          },
          "metadata": {},
          "execution_count": 35
        }
      ]
    },
    {
      "cell_type": "code",
      "source": [
        "def _rand_erase1(x, pct, xm, xs, mn, mx):\n",
        "    szx = int(pct * x.shape[-2])\n",
        "    szy = int(pct * x.shape[-1])\n",
        "    stx = int(random.random() * (1 - pct) * x.shape[-2])\n",
        "    sty = int(random.random() * (1 - pct) * x.shape[-1])\n",
        "    init.normal_(x[:, :, stx:stx+szx, sty:sty+szy], mean=xm, std=xs)\n",
        "    x.clamp_(mn, mx)"
      ],
      "metadata": {
        "id": "fgDwQ_aJ4bQD"
      },
      "execution_count": 36,
      "outputs": []
    },
    {
      "cell_type": "code",
      "source": [
        "xb, _ = next(iter(dls.train))\n",
        "xbt = xb[:16]\n",
        "_rand_erase1(xb, 0.2, xbt.mean(), xbt.std(), xbt.min(), xbt.max())\n",
        "show_images(xbt, imsize=1.5)"
      ],
      "metadata": {
        "id": "9lUwBf6P5B4X",
        "outputId": "608cbebf-f584-493e-805e-19a6b890a2db",
        "colab": {
          "base_uri": "https://localhost:8080/",
          "height": 499
        }
      },
      "execution_count": 38,
      "outputs": [
        {
          "output_type": "display_data",
          "data": {
            "text/plain": [
              "<Figure size 600x600 with 16 Axes>"
            ],
            "image/png": "[encoded data removed]"
          },
          "metadata": {}
        }
      ]
    },
    {
      "cell_type": "code",
      "source": [
        "xbt.mean(),xbt.std(),xbt.min(), xbt.max()"
      ],
      "metadata": {
        "id": "l3nk0hOi5Rai",
        "outputId": "90e05831-d96c-488b-fd9d-585041f16028",
        "colab": {
          "base_uri": "https://localhost:8080/"
        }
      },
      "execution_count": 39,
      "outputs": [
        {
          "output_type": "execute_result",
          "data": {
            "text/plain": [
              "(tensor(0.03), tensor(1.05), tensor(-0.80), tensor(2.06))"
            ]
          },
          "metadata": {},
          "execution_count": 39
        }
      ]
    },
    {
      "cell_type": "code",
      "source": [
        "def rand_erase(x, pct=0.2, max_num=4):\n",
        "    xm, xs, mn, mx = x.mean(), x.std(), x.min(), x.max()\n",
        "    num = random.randint(0, max_num)\n",
        "    for i in range(num): _rand_erase1(x, pct, xm, xs, mn, mx)\n",
        "    return x"
      ],
      "metadata": {
        "id": "6Kqgj6jS5Xf2"
      },
      "execution_count": 40,
      "outputs": []
    },
    {
      "cell_type": "code",
      "source": [
        "xb, _ = next(iter(dls.train))\n",
        "xbt = xb[:16]\n",
        "rand_erase(xb, 0.2, 4)\n",
        "show_images(xbt, imsize=1.5)"
      ],
      "metadata": {
        "id": "g8Icb55s5yj4",
        "outputId": "da5e3f56-7281-4fa8-8947-74a0469a9464",
        "colab": {
          "base_uri": "https://localhost:8080/",
          "height": 499
        }
      },
      "execution_count": 46,
      "outputs": [
        {
          "output_type": "display_data",
          "data": {
            "text/plain": [
              "<Figure size 600x600 with 16 Axes>"
            ],
            "image/png": "[encoded data removed]"
          },
          "metadata": {}
        }
      ]
    },
    {
      "cell_type": "code",
      "source": [
        "class RandErase(nn.Module):\n",
        "    def __init__(self, pct=0.2, max_num=4):\n",
        "        super().__init__()\n",
        "        self.pct, self.max_num = pct, max_num\n",
        "    def forward(self, x): return rand_erase(x, self.pct, self.max_num)"
      ],
      "metadata": {
        "id": "ojGjvYse57HC"
      },
      "execution_count": 47,
      "outputs": []
    },
    {
      "cell_type": "code",
      "source": [
        "tfms = nn.Sequential(transforms.RandomCrop(28, padding=1),\n",
        "                     transforms.RandomHorizontalFlip(),\n",
        "                     RandErase())\n",
        "augcb = BatchTransformCB(partial(tfm_batch, tfm_x=tfms), on_val=False)"
      ],
      "metadata": {
        "id": "iTv5UIkF6lnw"
      },
      "execution_count": 51,
      "outputs": []
    },
    {
      "cell_type": "code",
      "source": [
        "model = get_model()\n",
        "learn = TrainLearner(model, dls, F.cross_entropy, lr=lr, cbs=[DeviceCB(), SingleBatchCB(), augcb])\n",
        "learn.fit(1)\n",
        "xb,yb = learn.batch\n",
        "show_images(xb[:16], imsize=1.5)"
      ],
      "metadata": {
        "id": "23wU9vsS7GLX",
        "outputId": "ac5e03ad-a870-49ea-904b-8ba93b4f5c88",
        "colab": {
          "base_uri": "https://localhost:8080/",
          "height": 499
        }
      },
      "execution_count": 52,
      "outputs": [
        {
          "output_type": "display_data",
          "data": {
            "text/plain": [
              "<Figure size 600x600 with 16 Axes>"
            ],
            "image/png": "[encoded data removed]"
          },
          "metadata": {}
        }
      ]
    },
    {
      "cell_type": "code",
      "source": [
        "epochs = 50\n",
        "lr = 2e-2\n",
        "tmax = epochs * len(dls.train)\n",
        "sched = partial(lr_scheduler.OneCycleLR, max_lr=lr, total_steps=tmax)\n",
        "xtra = [BatchSchedCB(sched), augcb]\n",
        "model = get_model(act_gr, norm=nn.BatchNorm2d).apply(iw)\n",
        "learn = TrainLearner(model, dls, F.cross_entropy, lr=lr, cbs=cbs+xtra, opt_func=optim.AdamW)\n",
        "learn.fit(epochs)"
      ],
      "metadata": {
        "id": "UQeRybbD7aP6",
        "outputId": "75a67d45-b38b-45cf-aa59-e0976eb1ada0",
        "colab": {
          "base_uri": "https://localhost:8080/",
          "height": 1000
        }
      },
      "execution_count": 53,
      "outputs": [
        {
          "output_type": "display_data",
          "data": {
            "text/plain": [
              "<IPython.core.display.HTML object>"
            ],
            "text/html": [
              "\n",
              "<style>\n",
              "    /* Turns off some styling */\n",
              "    progress {\n",
              "        /* gets rid of default border in Firefox and Opera. */\n",
              "        border: none;\n",
              "        /* Needs to be in here for Safari polyfill so background images work as expected. */\n",
              "        background-size: auto;\n",
              "    }\n",
              "    progress:not([value]), progress:not([value])::-webkit-progress-bar {\n",
              "        background: repeating-linear-gradient(45deg, #7e7e7e, #7e7e7e 10px, #5c5c5c 10px, #5c5c5c 20px);\n",
              "    }\n",
              "    .progress-bar-interrupted, .progress-bar-interrupted::-webkit-progress-bar {\n",
              "        background: #F44336;\n",
              "    }\n",
              "</style>\n"
            ]
          },
          "metadata": {}
        },
        {
          "output_type": "display_data",
          "data": {
            "text/plain": [
              "<IPython.core.display.HTML object>"
            ],
            "text/html": [
              "<table border=\"1\" class=\"dataframe\">\n",
              "  <thead>\n",
              "    <tr style=\"text-align: left;\">\n",
              "      <th>accuracy</th>\n",
              "      <th>loss</th>\n",
              "      <th>epoch</th>\n",
              "      <th>train</th>\n",
              "    </tr>\n",
              "  </thead>\n",
              "  <tbody>\n",
              "    <tr>\n",
              "      <td>0.765</td>\n",
              "      <td>0.870</td>\n",
              "      <td>0</td>\n",
              "      <td>train</td>\n",
              "    </tr>\n",
              "    <tr>\n",
              "      <td>0.831</td>\n",
              "      <td>0.572</td>\n",
              "      <td>0</td>\n",
              "      <td>eval</td>\n",
              "    </tr>\n",
              "    <tr>\n",
              "      <td>0.843</td>\n",
              "      <td>0.620</td>\n",
              "      <td>1</td>\n",
              "      <td>train</td>\n",
              "    </tr>\n",
              "    <tr>\n",
              "      <td>0.840</td>\n",
              "      <td>0.512</td>\n",
              "      <td>1</td>\n",
              "      <td>eval</td>\n",
              "    </tr>\n",
              "    <tr>\n",
              "      <td>0.861</td>\n",
              "      <td>0.538</td>\n",
              "      <td>2</td>\n",
              "      <td>train</td>\n",
              "    </tr>\n",
              "    <tr>\n",
              "      <td>0.870</td>\n",
              "      <td>0.462</td>\n",
              "      <td>2</td>\n",
              "      <td>eval</td>\n",
              "    </tr>\n",
              "    <tr>\n",
              "      <td>0.870</td>\n",
              "      <td>0.465</td>\n",
              "      <td>3</td>\n",
              "      <td>train</td>\n",
              "    </tr>\n",
              "    <tr>\n",
              "      <td>0.874</td>\n",
              "      <td>0.411</td>\n",
              "      <td>3</td>\n",
              "      <td>eval</td>\n",
              "    </tr>\n",
              "    <tr>\n",
              "      <td>0.878</td>\n",
              "      <td>0.406</td>\n",
              "      <td>4</td>\n",
              "      <td>train</td>\n",
              "    </tr>\n",
              "    <tr>\n",
              "      <td>0.856</td>\n",
              "      <td>0.433</td>\n",
              "      <td>4</td>\n",
              "      <td>eval</td>\n",
              "    </tr>\n",
              "    <tr>\n",
              "      <td>0.882</td>\n",
              "      <td>0.372</td>\n",
              "      <td>5</td>\n",
              "      <td>train</td>\n",
              "    </tr>\n",
              "    <tr>\n",
              "      <td>0.802</td>\n",
              "      <td>0.544</td>\n",
              "      <td>5</td>\n",
              "      <td>eval</td>\n",
              "    </tr>\n",
              "    <tr>\n",
              "      <td>0.883</td>\n",
              "      <td>0.351</td>\n",
              "      <td>6</td>\n",
              "      <td>train</td>\n",
              "    </tr>\n",
              "    <tr>\n",
              "      <td>0.800</td>\n",
              "      <td>0.600</td>\n",
              "      <td>6</td>\n",
              "      <td>eval</td>\n",
              "    </tr>\n",
              "    <tr>\n",
              "      <td>0.895</td>\n",
              "      <td>0.312</td>\n",
              "      <td>7</td>\n",
              "      <td>train</td>\n",
              "    </tr>\n",
              "    <tr>\n",
              "      <td>0.890</td>\n",
              "      <td>0.326</td>\n",
              "      <td>7</td>\n",
              "      <td>eval</td>\n",
              "    </tr>\n",
              "    <tr>\n",
              "      <td>0.895</td>\n",
              "      <td>0.301</td>\n",
              "      <td>8</td>\n",
              "      <td>train</td>\n",
              "    </tr>\n",
              "    <tr>\n",
              "      <td>0.880</td>\n",
              "      <td>0.331</td>\n",
              "      <td>8</td>\n",
              "      <td>eval</td>\n",
              "    </tr>\n",
              "    <tr>\n",
              "      <td>0.900</td>\n",
              "      <td>0.283</td>\n",
              "      <td>9</td>\n",
              "      <td>train</td>\n",
              "    </tr>\n",
              "    <tr>\n",
              "      <td>0.872</td>\n",
              "      <td>0.363</td>\n",
              "      <td>9</td>\n",
              "      <td>eval</td>\n",
              "    </tr>\n",
              "    <tr>\n",
              "      <td>0.901</td>\n",
              "      <td>0.279</td>\n",
              "      <td>10</td>\n",
              "      <td>train</td>\n",
              "    </tr>\n",
              "    <tr>\n",
              "      <td>0.901</td>\n",
              "      <td>0.277</td>\n",
              "      <td>10</td>\n",
              "      <td>eval</td>\n",
              "    </tr>\n",
              "    <tr>\n",
              "      <td>0.905</td>\n",
              "      <td>0.266</td>\n",
              "      <td>11</td>\n",
              "      <td>train</td>\n",
              "    </tr>\n",
              "    <tr>\n",
              "      <td>0.887</td>\n",
              "      <td>0.322</td>\n",
              "      <td>11</td>\n",
              "      <td>eval</td>\n",
              "    </tr>\n",
              "    <tr>\n",
              "      <td>0.904</td>\n",
              "      <td>0.265</td>\n",
              "      <td>12</td>\n",
              "      <td>train</td>\n",
              "    </tr>\n",
              "    <tr>\n",
              "      <td>0.883</td>\n",
              "      <td>0.351</td>\n",
              "      <td>12</td>\n",
              "      <td>eval</td>\n",
              "    </tr>\n",
              "    <tr>\n",
              "      <td>0.906</td>\n",
              "      <td>0.257</td>\n",
              "      <td>13</td>\n",
              "      <td>train</td>\n",
              "    </tr>\n",
              "    <tr>\n",
              "      <td>0.899</td>\n",
              "      <td>0.286</td>\n",
              "      <td>13</td>\n",
              "      <td>eval</td>\n",
              "    </tr>\n",
              "    <tr>\n",
              "      <td>0.911</td>\n",
              "      <td>0.247</td>\n",
              "      <td>14</td>\n",
              "      <td>train</td>\n",
              "    </tr>\n",
              "    <tr>\n",
              "      <td>0.886</td>\n",
              "      <td>0.325</td>\n",
              "      <td>14</td>\n",
              "      <td>eval</td>\n",
              "    </tr>\n",
              "    <tr>\n",
              "      <td>0.914</td>\n",
              "      <td>0.233</td>\n",
              "      <td>15</td>\n",
              "      <td>train</td>\n",
              "    </tr>\n",
              "    <tr>\n",
              "      <td>0.880</td>\n",
              "      <td>0.326</td>\n",
              "      <td>15</td>\n",
              "      <td>eval</td>\n",
              "    </tr>\n",
              "    <tr>\n",
              "      <td>0.920</td>\n",
              "      <td>0.219</td>\n",
              "      <td>16</td>\n",
              "      <td>train</td>\n",
              "    </tr>\n",
              "    <tr>\n",
              "      <td>0.892</td>\n",
              "      <td>0.307</td>\n",
              "      <td>16</td>\n",
              "      <td>eval</td>\n",
              "    </tr>\n",
              "    <tr>\n",
              "      <td>0.921</td>\n",
              "      <td>0.220</td>\n",
              "      <td>17</td>\n",
              "      <td>train</td>\n",
              "    </tr>\n",
              "    <tr>\n",
              "      <td>0.903</td>\n",
              "      <td>0.273</td>\n",
              "      <td>17</td>\n",
              "      <td>eval</td>\n",
              "    </tr>\n",
              "    <tr>\n",
              "      <td>0.922</td>\n",
              "      <td>0.214</td>\n",
              "      <td>18</td>\n",
              "      <td>train</td>\n",
              "    </tr>\n",
              "    <tr>\n",
              "      <td>0.912</td>\n",
              "      <td>0.240</td>\n",
              "      <td>18</td>\n",
              "      <td>eval</td>\n",
              "    </tr>\n",
              "    <tr>\n",
              "      <td>0.924</td>\n",
              "      <td>0.209</td>\n",
              "      <td>19</td>\n",
              "      <td>train</td>\n",
              "    </tr>\n",
              "    <tr>\n",
              "      <td>0.911</td>\n",
              "      <td>0.244</td>\n",
              "      <td>19</td>\n",
              "      <td>eval</td>\n",
              "    </tr>\n",
              "    <tr>\n",
              "      <td>0.925</td>\n",
              "      <td>0.206</td>\n",
              "      <td>20</td>\n",
              "      <td>train</td>\n",
              "    </tr>\n",
              "    <tr>\n",
              "      <td>0.905</td>\n",
              "      <td>0.259</td>\n",
              "      <td>20</td>\n",
              "      <td>eval</td>\n",
              "    </tr>\n",
              "    <tr>\n",
              "      <td>0.929</td>\n",
              "      <td>0.195</td>\n",
              "      <td>21</td>\n",
              "      <td>train</td>\n",
              "    </tr>\n",
              "    <tr>\n",
              "      <td>0.914</td>\n",
              "      <td>0.245</td>\n",
              "      <td>21</td>\n",
              "      <td>eval</td>\n",
              "    </tr>\n",
              "    <tr>\n",
              "      <td>0.928</td>\n",
              "      <td>0.195</td>\n",
              "      <td>22</td>\n",
              "      <td>train</td>\n",
              "    </tr>\n",
              "    <tr>\n",
              "      <td>0.912</td>\n",
              "      <td>0.245</td>\n",
              "      <td>22</td>\n",
              "      <td>eval</td>\n",
              "    </tr>\n",
              "    <tr>\n",
              "      <td>0.931</td>\n",
              "      <td>0.189</td>\n",
              "      <td>23</td>\n",
              "      <td>train</td>\n",
              "    </tr>\n",
              "    <tr>\n",
              "      <td>0.912</td>\n",
              "      <td>0.250</td>\n",
              "      <td>23</td>\n",
              "      <td>eval</td>\n",
              "    </tr>\n",
              "    <tr>\n",
              "      <td>0.929</td>\n",
              "      <td>0.191</td>\n",
              "      <td>24</td>\n",
              "      <td>train</td>\n",
              "    </tr>\n",
              "    <tr>\n",
              "      <td>0.889</td>\n",
              "      <td>0.314</td>\n",
              "      <td>24</td>\n",
              "      <td>eval</td>\n",
              "    </tr>\n",
              "    <tr>\n",
              "      <td>0.935</td>\n",
              "      <td>0.178</td>\n",
              "      <td>25</td>\n",
              "      <td>train</td>\n",
              "    </tr>\n",
              "    <tr>\n",
              "      <td>0.921</td>\n",
              "      <td>0.221</td>\n",
              "      <td>25</td>\n",
              "      <td>eval</td>\n",
              "    </tr>\n",
              "    <tr>\n",
              "      <td>0.936</td>\n",
              "      <td>0.175</td>\n",
              "      <td>26</td>\n",
              "      <td>train</td>\n",
              "    </tr>\n",
              "    <tr>\n",
              "      <td>0.918</td>\n",
              "      <td>0.243</td>\n",
              "      <td>26</td>\n",
              "      <td>eval</td>\n",
              "    </tr>\n",
              "    <tr>\n",
              "      <td>0.937</td>\n",
              "      <td>0.169</td>\n",
              "      <td>27</td>\n",
              "      <td>train</td>\n",
              "    </tr>\n",
              "    <tr>\n",
              "      <td>0.932</td>\n",
              "      <td>0.196</td>\n",
              "      <td>27</td>\n",
              "      <td>eval</td>\n",
              "    </tr>\n",
              "    <tr>\n",
              "      <td>0.941</td>\n",
              "      <td>0.163</td>\n",
              "      <td>28</td>\n",
              "      <td>train</td>\n",
              "    </tr>\n",
              "    <tr>\n",
              "      <td>0.906</td>\n",
              "      <td>0.271</td>\n",
              "      <td>28</td>\n",
              "      <td>eval</td>\n",
              "    </tr>\n",
              "    <tr>\n",
              "      <td>0.944</td>\n",
              "      <td>0.154</td>\n",
              "      <td>29</td>\n",
              "      <td>train</td>\n",
              "    </tr>\n",
              "    <tr>\n",
              "      <td>0.917</td>\n",
              "      <td>0.232</td>\n",
              "      <td>29</td>\n",
              "      <td>eval</td>\n",
              "    </tr>\n",
              "    <tr>\n",
              "      <td>0.944</td>\n",
              "      <td>0.152</td>\n",
              "      <td>30</td>\n",
              "      <td>train</td>\n",
              "    </tr>\n",
              "    <tr>\n",
              "      <td>0.936</td>\n",
              "      <td>0.180</td>\n",
              "      <td>30</td>\n",
              "      <td>eval</td>\n",
              "    </tr>\n",
              "    <tr>\n",
              "      <td>0.947</td>\n",
              "      <td>0.145</td>\n",
              "      <td>31</td>\n",
              "      <td>train</td>\n",
              "    </tr>\n",
              "    <tr>\n",
              "      <td>0.909</td>\n",
              "      <td>0.254</td>\n",
              "      <td>31</td>\n",
              "      <td>eval</td>\n",
              "    </tr>\n",
              "    <tr>\n",
              "      <td>0.948</td>\n",
              "      <td>0.143</td>\n",
              "      <td>32</td>\n",
              "      <td>train</td>\n",
              "    </tr>\n",
              "    <tr>\n",
              "      <td>0.935</td>\n",
              "      <td>0.188</td>\n",
              "      <td>32</td>\n",
              "      <td>eval</td>\n",
              "    </tr>\n",
              "    <tr>\n",
              "      <td>0.949</td>\n",
              "      <td>0.139</td>\n",
              "      <td>33</td>\n",
              "      <td>train</td>\n",
              "    </tr>\n",
              "    <tr>\n",
              "      <td>0.928</td>\n",
              "      <td>0.191</td>\n",
              "      <td>33</td>\n",
              "      <td>eval</td>\n",
              "    </tr>\n",
              "    <tr>\n",
              "      <td>0.949</td>\n",
              "      <td>0.139</td>\n",
              "      <td>34</td>\n",
              "      <td>train</td>\n",
              "    </tr>\n",
              "    <tr>\n",
              "      <td>0.931</td>\n",
              "      <td>0.195</td>\n",
              "      <td>34</td>\n",
              "      <td>eval</td>\n",
              "    </tr>\n",
              "    <tr>\n",
              "      <td>0.954</td>\n",
              "      <td>0.125</td>\n",
              "      <td>35</td>\n",
              "      <td>train</td>\n",
              "    </tr>\n",
              "    <tr>\n",
              "      <td>0.940</td>\n",
              "      <td>0.178</td>\n",
              "      <td>35</td>\n",
              "      <td>eval</td>\n",
              "    </tr>\n",
              "    <tr>\n",
              "      <td>0.955</td>\n",
              "      <td>0.121</td>\n",
              "      <td>36</td>\n",
              "      <td>train</td>\n",
              "    </tr>\n",
              "    <tr>\n",
              "      <td>0.941</td>\n",
              "      <td>0.170</td>\n",
              "      <td>36</td>\n",
              "      <td>eval</td>\n",
              "    </tr>\n",
              "    <tr>\n",
              "      <td>0.956</td>\n",
              "      <td>0.120</td>\n",
              "      <td>37</td>\n",
              "      <td>train</td>\n",
              "    </tr>\n",
              "    <tr>\n",
              "      <td>0.944</td>\n",
              "      <td>0.171</td>\n",
              "      <td>37</td>\n",
              "      <td>eval</td>\n",
              "    </tr>\n",
              "    <tr>\n",
              "      <td>0.962</td>\n",
              "      <td>0.107</td>\n",
              "      <td>38</td>\n",
              "      <td>train</td>\n",
              "    </tr>\n",
              "    <tr>\n",
              "      <td>0.940</td>\n",
              "      <td>0.181</td>\n",
              "      <td>38</td>\n",
              "      <td>eval</td>\n",
              "    </tr>\n",
              "    <tr>\n",
              "      <td>0.961</td>\n",
              "      <td>0.107</td>\n",
              "      <td>39</td>\n",
              "      <td>train</td>\n",
              "    </tr>\n",
              "    <tr>\n",
              "      <td>0.943</td>\n",
              "      <td>0.167</td>\n",
              "      <td>39</td>\n",
              "      <td>eval</td>\n",
              "    </tr>\n",
              "    <tr>\n",
              "      <td>0.962</td>\n",
              "      <td>0.105</td>\n",
              "      <td>40</td>\n",
              "      <td>train</td>\n",
              "    </tr>\n",
              "    <tr>\n",
              "      <td>0.939</td>\n",
              "      <td>0.180</td>\n",
              "      <td>40</td>\n",
              "      <td>eval</td>\n",
              "    </tr>\n",
              "    <tr>\n",
              "      <td>0.966</td>\n",
              "      <td>0.094</td>\n",
              "      <td>41</td>\n",
              "      <td>train</td>\n",
              "    </tr>\n",
              "    <tr>\n",
              "      <td>0.947</td>\n",
              "      <td>0.169</td>\n",
              "      <td>41</td>\n",
              "      <td>eval</td>\n",
              "    </tr>\n",
              "    <tr>\n",
              "      <td>0.966</td>\n",
              "      <td>0.094</td>\n",
              "      <td>42</td>\n",
              "      <td>train</td>\n",
              "    </tr>\n",
              "    <tr>\n",
              "      <td>0.946</td>\n",
              "      <td>0.166</td>\n",
              "      <td>42</td>\n",
              "      <td>eval</td>\n",
              "    </tr>\n",
              "    <tr>\n",
              "      <td>0.967</td>\n",
              "      <td>0.090</td>\n",
              "      <td>43</td>\n",
              "      <td>train</td>\n",
              "    </tr>\n",
              "    <tr>\n",
              "      <td>0.948</td>\n",
              "      <td>0.159</td>\n",
              "      <td>43</td>\n",
              "      <td>eval</td>\n",
              "    </tr>\n",
              "    <tr>\n",
              "      <td>0.972</td>\n",
              "      <td>0.079</td>\n",
              "      <td>44</td>\n",
              "      <td>train</td>\n",
              "    </tr>\n",
              "    <tr>\n",
              "      <td>0.948</td>\n",
              "      <td>0.166</td>\n",
              "      <td>44</td>\n",
              "      <td>eval</td>\n",
              "    </tr>\n",
              "    <tr>\n",
              "      <td>0.969</td>\n",
              "      <td>0.086</td>\n",
              "      <td>45</td>\n",
              "      <td>train</td>\n",
              "    </tr>\n",
              "    <tr>\n",
              "      <td>0.950</td>\n",
              "      <td>0.161</td>\n",
              "      <td>45</td>\n",
              "      <td>eval</td>\n",
              "    </tr>\n",
              "    <tr>\n",
              "      <td>0.973</td>\n",
              "      <td>0.077</td>\n",
              "      <td>46</td>\n",
              "      <td>train</td>\n",
              "    </tr>\n",
              "    <tr>\n",
              "      <td>0.948</td>\n",
              "      <td>0.163</td>\n",
              "      <td>46</td>\n",
              "      <td>eval</td>\n",
              "    </tr>\n",
              "    <tr>\n",
              "      <td>0.974</td>\n",
              "      <td>0.074</td>\n",
              "      <td>47</td>\n",
              "      <td>train</td>\n",
              "    </tr>\n",
              "    <tr>\n",
              "      <td>0.949</td>\n",
              "      <td>0.163</td>\n",
              "      <td>47</td>\n",
              "      <td>eval</td>\n",
              "    </tr>\n",
              "    <tr>\n",
              "      <td>0.975</td>\n",
              "      <td>0.070</td>\n",
              "      <td>48</td>\n",
              "      <td>train</td>\n",
              "    </tr>\n",
              "    <tr>\n",
              "      <td>0.948</td>\n",
              "      <td>0.161</td>\n",
              "      <td>48</td>\n",
              "      <td>eval</td>\n",
              "    </tr>\n",
              "    <tr>\n",
              "      <td>0.975</td>\n",
              "      <td>0.071</td>\n",
              "      <td>49</td>\n",
              "      <td>train</td>\n",
              "    </tr>\n",
              "    <tr>\n",
              "      <td>0.948</td>\n",
              "      <td>0.162</td>\n",
              "      <td>49</td>\n",
              "      <td>eval</td>\n",
              "    </tr>\n",
              "  </tbody>\n",
              "</table>"
            ]
          },
          "metadata": {}
        }
      ]
    },
    {
      "cell_type": "markdown",
      "source": [
        "## Random copy"
      ],
      "metadata": {
        "id": "AtO3K-6R8B8G"
      }
    },
    {
      "cell_type": "code",
      "source": [],
      "metadata": {
        "id": "a8wzUQHz7uZL"
      },
      "execution_count": null,
      "outputs": []
    }
  ],
  "metadata": {
    "kernelspec": {
      "display_name": "Python 3",
      "name": "python3"
    },
    "language_info": {
      "codemirror_mode": {
        "name": "ipython",
        "version": 3
      },
      "file_extension": ".py",
      "mimetype": "text/x-python",
      "name": "python",
      "nbconvert_exporter": "python",
      "pygments_lexer": "ipython3",
      "version": "3.11.3"
    },
    "colab": {
      "provenance": [],
      "gpuType": "T4"
    },
    "accelerator": "GPU"
  },
  "nbformat": 4,
  "nbformat_minor": 0
}